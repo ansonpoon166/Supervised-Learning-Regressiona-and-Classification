{
 "cells": [
  {
   "cell_type": "markdown",
   "metadata": {},
   "source": [
    "# Methods for Data Science Coursework 1"
   ]
  },
  {
   "cell_type": "markdown",
   "metadata": {},
   "source": [
    "Please note that this jupyter notebook was created with Python 3.6.10 and Numpy 1.17.0, although similar versions of python and numpy will produce the same result. Moreover, it is important to run the notebook in order."
   ]
  },
  {
   "cell_type": "code",
   "execution_count": 1,
   "metadata": {},
   "outputs": [],
   "source": [
    "import numpy as np\n",
    "import matplotlib.pyplot as plt\n",
    "import pandas as pd\n",
    "import seaborn as sns\n",
    "import random"
   ]
  },
  {
   "cell_type": "code",
   "execution_count": 2,
   "metadata": {},
   "outputs": [],
   "source": [
    "%matplotlib inline\n",
    "plt.style.use('seaborn')"
   ]
  },
  {
   "cell_type": "markdown",
   "metadata": {},
   "source": [
    "# Task 1: Regression"
   ]
  },
  {
   "cell_type": "markdown",
   "metadata": {},
   "source": [
    "First, I imported the data as numpy arrays, which was then shuffled."
   ]
  },
  {
   "cell_type": "code",
   "execution_count": 3,
   "metadata": {},
   "outputs": [],
   "source": [
    "# Import the data\n",
    "df_train = pd.read_csv('regression_train.csv', header = None)\n",
    "df_test = pd.read_csv('regression_test.csv', header = None)\n",
    "data = df_train.to_numpy()\n",
    "# Shuffle data\n",
    "np.random.seed(18)\n",
    "np.random.shuffle(data)"
   ]
  },
  {
   "cell_type": "code",
   "execution_count": 4,
   "metadata": {},
   "outputs": [
    {
     "data": {
      "text/html": [
       "<div>\n",
       "<style scoped>\n",
       "    .dataframe tbody tr th:only-of-type {\n",
       "        vertical-align: middle;\n",
       "    }\n",
       "\n",
       "    .dataframe tbody tr th {\n",
       "        vertical-align: top;\n",
       "    }\n",
       "\n",
       "    .dataframe thead th {\n",
       "        text-align: right;\n",
       "    }\n",
       "</style>\n",
       "<table border=\"1\" class=\"dataframe\">\n",
       "  <thead>\n",
       "    <tr style=\"text-align: right;\">\n",
       "      <th></th>\n",
       "      <th>0</th>\n",
       "      <th>1</th>\n",
       "      <th>2</th>\n",
       "      <th>3</th>\n",
       "      <th>4</th>\n",
       "      <th>5</th>\n",
       "      <th>6</th>\n",
       "      <th>7</th>\n",
       "      <th>8</th>\n",
       "      <th>9</th>\n",
       "      <th>10</th>\n",
       "      <th>11</th>\n",
       "      <th>12</th>\n",
       "      <th>13</th>\n",
       "      <th>14</th>\n",
       "      <th>15</th>\n",
       "      <th>16</th>\n",
       "      <th>17</th>\n",
       "      <th>18</th>\n",
       "    </tr>\n",
       "  </thead>\n",
       "  <tbody>\n",
       "    <tr>\n",
       "      <th>0</th>\n",
       "      <td>1.0</td>\n",
       "      <td>-0.416529</td>\n",
       "      <td>-0.487722</td>\n",
       "      <td>-0.867691</td>\n",
       "      <td>-0.867690</td>\n",
       "      <td>-0.342899</td>\n",
       "      <td>-0.592137</td>\n",
       "      <td>-0.792108</td>\n",
       "      <td>0.682657</td>\n",
       "      <td>-0.591712</td>\n",
       "      <td>-1.094237</td>\n",
       "      <td>0.806576</td>\n",
       "      <td>0.441052</td>\n",
       "      <td>-0.399925</td>\n",
       "      <td>-0.342899</td>\n",
       "      <td>0.806563</td>\n",
       "      <td>-0.487725</td>\n",
       "      <td>0.682651</td>\n",
       "      <td>19.5</td>\n",
       "    </tr>\n",
       "    <tr>\n",
       "      <th>1</th>\n",
       "      <td>1.0</td>\n",
       "      <td>-0.400349</td>\n",
       "      <td>-0.487722</td>\n",
       "      <td>-0.211099</td>\n",
       "      <td>-0.211103</td>\n",
       "      <td>0.261784</td>\n",
       "      <td>-0.822932</td>\n",
       "      <td>-0.518292</td>\n",
       "      <td>-0.671859</td>\n",
       "      <td>-0.823196</td>\n",
       "      <td>-0.102376</td>\n",
       "      <td>0.344213</td>\n",
       "      <td>0.441052</td>\n",
       "      <td>-0.090141</td>\n",
       "      <td>0.261784</td>\n",
       "      <td>0.344223</td>\n",
       "      <td>-0.487719</td>\n",
       "      <td>-0.671771</td>\n",
       "      <td>21.8</td>\n",
       "    </tr>\n",
       "    <tr>\n",
       "      <th>2</th>\n",
       "      <td>1.0</td>\n",
       "      <td>-0.410757</td>\n",
       "      <td>-0.487722</td>\n",
       "      <td>0.247057</td>\n",
       "      <td>0.247044</td>\n",
       "      <td>-1.016689</td>\n",
       "      <td>-0.585014</td>\n",
       "      <td>-1.137046</td>\n",
       "      <td>0.336351</td>\n",
       "      <td>-0.585043</td>\n",
       "      <td>-0.060801</td>\n",
       "      <td>0.113032</td>\n",
       "      <td>0.431842</td>\n",
       "      <td>-0.498046</td>\n",
       "      <td>-1.016689</td>\n",
       "      <td>0.113033</td>\n",
       "      <td>-0.487723</td>\n",
       "      <td>0.336239</td>\n",
       "      <td>20.3</td>\n",
       "    </tr>\n",
       "    <tr>\n",
       "      <th>3</th>\n",
       "      <td>1.0</td>\n",
       "      <td>-0.412788</td>\n",
       "      <td>-0.487722</td>\n",
       "      <td>-1.034027</td>\n",
       "      <td>-1.034035</td>\n",
       "      <td>-0.386091</td>\n",
       "      <td>0.819700</td>\n",
       "      <td>0.207144</td>\n",
       "      <td>-0.418203</td>\n",
       "      <td>0.819617</td>\n",
       "      <td>-0.666608</td>\n",
       "      <td>-0.857929</td>\n",
       "      <td>0.379323</td>\n",
       "      <td>-0.803625</td>\n",
       "      <td>-0.386091</td>\n",
       "      <td>-0.857939</td>\n",
       "      <td>-0.487723</td>\n",
       "      <td>-0.418305</td>\n",
       "      <td>29.9</td>\n",
       "    </tr>\n",
       "    <tr>\n",
       "      <th>4</th>\n",
       "      <td>1.0</td>\n",
       "      <td>0.085565</td>\n",
       "      <td>-0.487722</td>\n",
       "      <td>1.015999</td>\n",
       "      <td>1.016012</td>\n",
       "      <td>0.218592</td>\n",
       "      <td>-0.167589</td>\n",
       "      <td>0.548525</td>\n",
       "      <td>-0.362061</td>\n",
       "      <td>-0.167528</td>\n",
       "      <td>1.530926</td>\n",
       "      <td>0.806576</td>\n",
       "      <td>0.441052</td>\n",
       "      <td>0.509803</td>\n",
       "      <td>0.218592</td>\n",
       "      <td>0.806597</td>\n",
       "      <td>-0.487721</td>\n",
       "      <td>-0.362041</td>\n",
       "      <td>19.9</td>\n",
       "    </tr>\n",
       "  </tbody>\n",
       "</table>\n",
       "</div>"
      ],
      "text/plain": [
       "    0         1         2         3         4         5         6         7   \\\n",
       "0  1.0 -0.416529 -0.487722 -0.867691 -0.867690 -0.342899 -0.592137 -0.792108   \n",
       "1  1.0 -0.400349 -0.487722 -0.211099 -0.211103  0.261784 -0.822932 -0.518292   \n",
       "2  1.0 -0.410757 -0.487722  0.247057  0.247044 -1.016689 -0.585014 -1.137046   \n",
       "3  1.0 -0.412788 -0.487722 -1.034027 -1.034035 -0.386091  0.819700  0.207144   \n",
       "4  1.0  0.085565 -0.487722  1.015999  1.016012  0.218592 -0.167589  0.548525   \n",
       "\n",
       "         8         9         10        11        12        13        14  \\\n",
       "0  0.682657 -0.591712 -1.094237  0.806576  0.441052 -0.399925 -0.342899   \n",
       "1 -0.671859 -0.823196 -0.102376  0.344213  0.441052 -0.090141  0.261784   \n",
       "2  0.336351 -0.585043 -0.060801  0.113032  0.431842 -0.498046 -1.016689   \n",
       "3 -0.418203  0.819617 -0.666608 -0.857929  0.379323 -0.803625 -0.386091   \n",
       "4 -0.362061 -0.167528  1.530926  0.806576  0.441052  0.509803  0.218592   \n",
       "\n",
       "         15        16        17    18  \n",
       "0  0.806563 -0.487725  0.682651  19.5  \n",
       "1  0.344223 -0.487719 -0.671771  21.8  \n",
       "2  0.113033 -0.487723  0.336239  20.3  \n",
       "3 -0.857939 -0.487723 -0.418305  29.9  \n",
       "4  0.806597 -0.487721 -0.362041  19.9  "
      ]
     },
     "execution_count": 4,
     "metadata": {},
     "output_type": "execute_result"
    }
   ],
   "source": [
    "df_train.head() #To check a brief check on the data, allowing us to know the sort of data we are working with"
   ]
  },
  {
   "cell_type": "code",
   "execution_count": 5,
   "metadata": {},
   "outputs": [],
   "source": [
    "# Train set\n",
    "Y_train = data[:,-1]\n",
    "X_train = data[:, :data.shape[1]-1]\n",
    "\n",
    "\n",
    "#Testset\n",
    "Y_test = df_test[18].to_numpy().T\n",
    "X_test = df_test.drop(columns = [18]).to_numpy()\n"
   ]
  },
  {
   "cell_type": "code",
   "execution_count": 6,
   "metadata": {},
   "outputs": [],
   "source": [
    "def MSE(predicted_values, true_values):\n",
    "    '''\n",
    "    Arguments:\n",
    "    predicted_values: a numpy array of the predicted values.\n",
    "    true_values: a numpy array of the true values.\n",
    "    \n",
    "    Returns: float, the mean squared error calculated from the predicted values and the true values.\n",
    "    '''\n",
    "    n = len(predicted_values)\n",
    "    return sum((predicted_values - true_values)**2)/n"
   ]
  },
  {
   "cell_type": "markdown",
   "metadata": {},
   "source": [
    "# 1.1 Linear Regression"
   ]
  },
  {
   "cell_type": "markdown",
   "metadata": {},
   "source": [
    "In linear regression, we tried to build a statistical model in the form:\n",
    "$$\n",
    "y = \\boldsymbol x^T\\boldsymbol\\beta \n",
    "$$\n",
    "where $\\boldsymbol\\beta$ is the parameter we need to determine by minising the loss function which is defined to be the least squares loss function:\n",
    "\n",
    "$$\n",
    "\\underset{\\boldsymbol\\beta}{\\text{min}} \\| \\boldsymbol\\ y - \\mathcal X \\boldsymbol\\beta \\|^2 = \\underset{\\boldsymbol\\beta}{\\text{min}} \\ \\text{L}_{\\text{LS}} (\\boldsymbol\\beta)\n",
    "$$\n",
    "\n",
    "The solution to this minisation is:\n",
    "$$\n",
    "\\boldsymbol\\beta^{*} = (\\boldsymbol X^T\\boldsymbol X)^{-1}\\boldsymbol X^T\\boldsymbol y \\ \n",
    "$$\n"
   ]
  },
  {
   "cell_type": "markdown",
   "metadata": {},
   "source": [
    "Since the determinant of the matrix $ \\boldsymbol X^T\\boldsymbol X$ is in the order of magnitude of 10e-20, which is beyond the machine precision of my computer, hence this introduced singular matrix error in later calculations. Therefore, some Guassian noise was introduced to the matrix to avoid this singular matrix error, while having little effect on the calculation."
   ]
  },
  {
   "cell_type": "code",
   "execution_count": 7,
   "metadata": {},
   "outputs": [],
   "source": [
    "# This creates a noise matrix.\n",
    "np.random.seed(18)\n",
    "noise = np.random.normal(0, 10**-12, (X_train.T @ X_train).shape) "
   ]
  },
  {
   "cell_type": "code",
   "execution_count": 8,
   "metadata": {},
   "outputs": [],
   "source": [
    "def LR(X_input, X_train, Y_train, return_beta = False):\n",
    "    '''\n",
    "    Arguments:\n",
    "    X_input: numpy array, the data to be predicted using a linear regression model.\n",
    "    X_train: numpy array, the training data set.\n",
    "    Y_train: numpy array, the values of the the training data set.\n",
    "    return_beta: boolean, if this is True, the function would return the betas.\n",
    "    \n",
    "    Returns:\n",
    "    predicted_Y: numpy array, The predicted values of from the input data.\n",
    "    beta_star: The betas obtained for the linear regression. This is only returned when return_beta == True.\n",
    "    \n",
    "    '''\n",
    "    n = len(X_input)\n",
    "    beta_star = np.linalg.solve(X_train.T @ X_train + noise, X_train.T @ Y_train)\n",
    "    predicted_Y = X_input @ beta_star\n",
    "    \n",
    "    if return_beta:\n",
    "        return predicted_Y, beta_star\n",
    "    else:\n",
    "        return predicted_Y"
   ]
  },
  {
   "cell_type": "markdown",
   "metadata": {},
   "source": [
    "# 1.1.1\n"
   ]
  },
  {
   "cell_type": "code",
   "execution_count": 9,
   "metadata": {},
   "outputs": [
    {
     "name": "stdout",
     "output_type": "stream",
     "text": [
      "The mean squared error of the train set is 24.369.\n",
      "\n",
      "The mean squared error of the test set is 19.557.\n",
      "\n",
      "The betas for the linear regression model are :\n",
      " β = [ 2.2520000e+01 -6.1800000e-01 -4.5030433e+04 -4.0037368e+04\n",
      "  4.0037209e+04  6.4981096e+04  9.8270100e+02 -1.5800000e-01\n",
      "  1.3795290e+03 -9.7958300e+02 -5.5000000e-02 -5.6717820e+03\n",
      "  7.4200000e-01 -3.7180000e+00 -6.4982889e+04  5.6700410e+03\n",
      "  4.5031565e+04 -1.3830200e+03].\n"
     ]
    }
   ],
   "source": [
    "predicted_Y_train_LR = LR(X_train, X_train, Y_train)\n",
    "MSE_train_LR = MSE(predicted_Y_train_LR, Y_train)\n",
    "print(f'The mean squared error of the train set is {round(MSE_train_LR,3)}.\\n')\n",
    "\n",
    "predicted_Y_test_LR = LR(X_test, X_train, Y_train)\n",
    "MSE_test_LR = MSE(predicted_Y_test_LR, Y_test)\n",
    "print(f'The mean squared error of the test set is {round(MSE_test_LR, 3)}.\\n')\n",
    "\n",
    "betas_LR = LR(X_train, X_train, Y_train, return_beta = True)[1]\n",
    "print(f'The betas for the linear regression model are :')\n",
    "print(f' \\u03B2 = {np.round(betas_LR,3)}.')\n"
   ]
  },
  {
   "cell_type": "markdown",
   "metadata": {},
   "source": [
    "Using the linear regression, the in-sample error is greater thant the out-of-sample error, which is unusal. I think this is because the train set has more outliers compared to the test data. Moreover, this in fact also shows the model is not overfitting the training set."
   ]
  },
  {
   "cell_type": "markdown",
   "metadata": {},
   "source": [
    "# 1.2 Ridge Regression"
   ]
  },
  {
   "cell_type": "markdown",
   "metadata": {},
   "source": [
    "Ridge regression is very similar to linear regression, where the loss function is modified with a penalty term:\n",
    "\n",
    "$$\n",
    "\\underset{\\boldsymbol\\beta}{\\text{min}} \\| \\boldsymbol\\ y - \\mathcal X \\boldsymbol\\beta \\|^2 + \\lambda \\| \\boldsymbol\\beta \\|^2 = \\underset{\\boldsymbol\\beta}{\\text{min}} \\ \\text{L}_{\\text{LS}} (\\boldsymbol\\beta)\n",
    "$$\n",
    "\n",
    "The solution to this minisation problem can be obtained by:\n",
    "$$\n",
    "\\boldsymbol\\beta^{*}_{\\text{ridge}} = (\\boldsymbol X^T\\boldsymbol X + \\lambda I)^{-1}\\boldsymbol X^T\\boldsymbol y \\, .\n",
    "$$\n",
    "\n",
    "Ridge regression is an example of shrinkage methods, which penalises large values in $ \\boldsymbol\\beta$, which in turns increases the bias and reduces the variance. This is considered to be a improvement to the linear regression model, because although linearly regression is unbiased, it may have a very high variance depending on the the pseudo-inverse of $\\boldsymbol{X}$.\n"
   ]
  },
  {
   "cell_type": "code",
   "execution_count": 10,
   "metadata": {},
   "outputs": [],
   "source": [
    "def ridge_regression(X_input, X_train, Y_train, penalty, return_beta = False):\n",
    "    '''\n",
    "    Arguments:\n",
    "    X_input: numpy array, the data to be predicted using a linear regression model.\n",
    "    X_train: numpy array, the training data set.\n",
    "    Y_train: numpy array, the values of the the training data set.\n",
    "    penalty term: float, the hyperparameter, penalty term\n",
    "    return_beta: boolean, if this is True, the function would return the betas.\n",
    "    \n",
    "    Returns:\n",
    "    predicted_Y: numpy array, The predicted values of from the input data.\n",
    "    beta_star: The betas obtained for the linear regression. This is only returned when return_beta == True.\n",
    "    \n",
    "    '''\n",
    "    \n",
    "    I = np.identity(X_train.shape[1])\n",
    "    beta_star = np.linalg.solve(X_train.T @ X_train + penalty *I, X_train.T @ Y_train)\n",
    "    predicted_Y = X_input @ beta_star\n",
    "    \n",
    "    if return_beta:\n",
    "        return predicted_Y, beta_star\n",
    "    else:\n",
    "        return predicted_Y\n",
    "   "
   ]
  },
  {
   "cell_type": "code",
   "execution_count": 11,
   "metadata": {},
   "outputs": [],
   "source": [
    "def T_fold_split(X_train, Y_train, T =5):\n",
    "    '''\n",
    "    This function splits input training data into five training folds and five validation folds.\n",
    "    Arguments:\n",
    "    X_train: numpy array, the training data set.\n",
    "    Y_train: numpy array, the values of the the training data set.\n",
    "    T: int, the number of folds \n",
    "    \n",
    "    Returns:\n",
    "    X_fold_val: list, a list of validation set of the data\n",
    "    Y_fold_val: list, a list of validation set of the true value\n",
    "    X_fold_train: list, a list of the training set of the data\n",
    "    Y_fold_train: list, a list of the training set of the data\n",
    "    '''\n",
    "    #Initialising four empty lists\n",
    "    X_fold_val = []\n",
    "    Y_fold_val = []\n",
    "    X_fold_train = []\n",
    "    Y_fold_train = []\n",
    "\n",
    "    n = len(Y_train)\n",
    "    start = 0\n",
    "    end = round(n/T)\n",
    "\n",
    "    for i in range(T): # The for loop appends the data into corresponding lists\n",
    "        n = len(Y_train)\n",
    "\n",
    "        if i < T-1: \n",
    "            X_fold_val.append(X_train[start : end])\n",
    "            X_fold_train.append(np.delete(X_train, [i for i in range(start, end)], axis = 0))\n",
    "            Y_fold_val.append(Y_train[start : end])\n",
    "            Y_fold_train.append(np.delete(Y_train, [i for i in range(start, end)], axis = 0))\n",
    "            start = end\n",
    "            end += round(n/T)\n",
    "\n",
    "        else: # The if-else takes into account the scernario when the number of data is not divisble by T\n",
    "            X_fold_val.append(X_train[start : ])\n",
    "            X_fold_train.append(np.delete(X_train, [i for i in range(start, start + len(X_train[start : ]))], axis = 0))\n",
    "            Y_fold_val.append(Y_train[start : ])\n",
    "            Y_fold_train.append(np.delete(Y_train, [i for i in range(start, start + len(X_train[start : ]))], axis = 0))\n",
    "    \n",
    "    return X_fold_val, Y_fold_val, X_fold_train, Y_fold_train"
   ]
  },
  {
   "cell_type": "code",
   "execution_count": 12,
   "metadata": {},
   "outputs": [],
   "source": [
    "X_fold_val, Y_fold_val, X_fold_train, Y_fold_train = T_fold_split(X_train, Y_train)"
   ]
  },
  {
   "cell_type": "markdown",
   "metadata": {},
   "source": [
    "# 1.2.1\n"
   ]
  },
  {
   "cell_type": "markdown",
   "metadata": {},
   "source": [
    "First, I used a grid search method and 5 fold cross-validation to find the optimal penalty term and this process is first demonstrated using the first fold."
   ]
  },
  {
   "cell_type": "markdown",
   "metadata": {},
   "source": [
    "First, a grid of values of the penalty term were created. The MSE corresponding to each of these values was calculated and hence, the optimal penalty term can be determined by finding the value that corresponds to the smallest MSE in the grid search."
   ]
  },
  {
   "cell_type": "code",
   "execution_count": 13,
   "metadata": {},
   "outputs": [],
   "source": [
    "lamb_values = np.linspace(0.0001,10, 1001) # a grid of values of the penalty term\n",
    "mse_fold1_list = []\n",
    "\n",
    "for lamb in lamb_values: # Scanning different penalty terms\n",
    "    Y_fold1_predictions_RR = ridge_regression(X_fold_val[0], X_fold_train[0], Y_fold_train[0], lamb)\n",
    "    mse_fold1_list.append(MSE(Y_fold1_predictions_RR, Y_fold_val[0]))"
   ]
  },
  {
   "cell_type": "markdown",
   "metadata": {},
   "source": [
    "A graph was plotted to visualise how the MSEs depend change with different penalty terms."
   ]
  },
  {
   "cell_type": "code",
   "execution_count": 14,
   "metadata": {},
   "outputs": [
    {
     "data": {
      "text/plain": [
       "[<matplotlib.lines.Line2D at 0x10d859ac8>]"
      ]
     },
     "execution_count": 14,
     "metadata": {},
     "output_type": "execute_result"
    },
    {
     "data": {
      "image/png": "[encoded data removed]",
      "text/plain": [
       "<Figure size 576x396 with 1 Axes>"
      ]
     },
     "metadata": {},
     "output_type": "display_data"
    }
   ],
   "source": [
    "plt.title('The dependence of the mean squared errors on the penalty term for the first fold')\n",
    "plt.xlabel('penalty term')\n",
    "plt.ylabel('mean squaure error')\n",
    "plt.plot(lamb_values, mse_fold1_list)"
   ]
  },
  {
   "cell_type": "code",
   "execution_count": 15,
   "metadata": {},
   "outputs": [
    {
     "name": "stdout",
     "output_type": "stream",
     "text": [
      "The optimal value of the penalty term for the first fold is 5.9700403.\n"
     ]
    }
   ],
   "source": [
    "lamb_1fold_min = lamb_values[np.argmin(mse_fold1_list)]\n",
    "print(f'The optimal value of the penalty term for the first fold is {lamb_1fold_min}.')"
   ]
  },
  {
   "cell_type": "markdown",
   "metadata": {},
   "source": [
    "Now to do the grid search method across all five fold, I calculated the average mean square error across the five folds for each value of the penalty term. Again the optimal penalty term is then determined by finding the value that corresponds to the smallest average MSE in the grid search."
   ]
  },
  {
   "cell_type": "code",
   "execution_count": 16,
   "metadata": {},
   "outputs": [],
   "source": [
    "mse_list_RR = []\n",
    "\n",
    "for lamb in lamb_values:\n",
    "    mse_t_mean = 0  \n",
    "    for fold in range(5):\n",
    "        # predicting y for each fold\n",
    "        Y_fold_predictions_RR = ridge_regression(X_fold_val[fold], X_fold_train[fold], Y_fold_train[fold],\n",
    "                                 lamb)\n",
    "        mse_t = MSE(Y_fold_predictions_RR, Y_fold_val[fold])\n",
    "        mse_t_mean += mse_t\n",
    "        \n",
    "    mse_t_mean = mse_t_mean/5 # This calculates the mean MSE over the five folds for each penalty term.\n",
    "    mse_list_RR.append(mse_t_mean)"
   ]
  },
  {
   "cell_type": "markdown",
   "metadata": {},
   "source": [
    "A graph was plotted to visualise how the MSEs depend change with different penalty terms after averaging over the five folds."
   ]
  },
  {
   "cell_type": "code",
   "execution_count": 17,
   "metadata": {},
   "outputs": [
    {
     "data": {
      "text/plain": [
       "[<matplotlib.lines.Line2D at 0x10e6c7898>]"
      ]
     },
     "execution_count": 17,
     "metadata": {},
     "output_type": "execute_result"
    },
    {
     "data": {
      "image/png": "[encoded data removed]",
      "text/plain": [
       "<Figure size 576x396 with 1 Axes>"
      ]
     },
     "metadata": {},
     "output_type": "display_data"
    }
   ],
   "source": [
    "plt.title('The dependence of the mean squared errors on the penalty term across 5 folds')\n",
    "plt.xlabel('penalty terms')\n",
    "plt.ylabel('mean square error')\n",
    "plt.plot(lamb_values, mse_list_RR)"
   ]
  },
  {
   "cell_type": "code",
   "execution_count": 18,
   "metadata": {},
   "outputs": [
    {
     "name": "stdout",
     "output_type": "stream",
     "text": [
      "The value of the penalty term obtained from the 5-fold cross-validation is 2.0500795000000003.\n"
     ]
    }
   ],
   "source": [
    "lamb_cv = lamb_values[np.argmin(mse_list_RR)]\n",
    "print(f'The value of the penalty term obtained from the 5-fold cross-validation is {lamb_cv}.')"
   ]
  },
  {
   "cell_type": "markdown",
   "metadata": {},
   "source": [
    "Both graphs presented clear minima with respect to the penalty terms. This can be interpretted as a bias-viarance tradeoff. At low values of penalty terms, the variance was too high due to little shrinkage to $ \\boldsymbol\\beta$, while at high values of penalty terms, $ \\boldsymbol\\beta$ has been shrunk to far causing the bias to be too large."
   ]
  },
  {
   "cell_type": "markdown",
   "metadata": {},
   "source": [
    "# 1.2.2"
   ]
  },
  {
   "cell_type": "code",
   "execution_count": 19,
   "metadata": {},
   "outputs": [
    {
     "name": "stdout",
     "output_type": "stream",
     "text": [
      "The in-sample mean squared error is 24.568222641114797.\n",
      "\n",
      "The out-of-sample mean squared error is 19.366684493768346.\n",
      "\n",
      "The betas for the ridge regression model are :\n",
      " β = [22.414 -0.635  0.57  -0.101 -0.101 -0.835  1.585 -0.154 -1.725  1.569\n",
      " -0.097 -0.872  0.821 -3.618 -0.835 -0.872  0.57  -1.726].\n"
     ]
    }
   ],
   "source": [
    "Y_train_predictions_rr, beta_RR = ridge_regression(X_train, X_train, Y_train, lamb_cv, True)\n",
    "mse_train_rr = MSE(Y_train_predictions_rr, Y_train)\n",
    "print(f'The in-sample mean squared error is {mse_train_rr}.\\n')\n",
    "\n",
    "Y_test_predictions_rr = ridge_regression(X_test, X_train, Y_train, lamb_cv)\n",
    "mse_test_rr = MSE(Y_test_predictions_rr, Y_test)\n",
    "print(f'The out-of-sample mean squared error is {mse_test_rr}.\\n')\n",
    "\n",
    "print(f'The betas for the ridge regression model are :')\n",
    "print(f' \\u03B2 = {np.round(beta_RR,3)}.')"
   ]
  },
  {
   "cell_type": "markdown",
   "metadata": {},
   "source": [
    "$ \\boldsymbol\\beta$ obtained from ridge regression is significantly different from that of linear regression. It is clear large parameters have been shrunk from high order of magnitudes to O(1) or O(0.1) which increases bias but reduces the variance. However, it can be observed that the first parameter has remained nearly unchanged. This is because the first parameter is meant to be the intercept of the model and hence is not affected by the shrinkage."
   ]
  },
  {
   "cell_type": "markdown",
   "metadata": {},
   "source": [
    "# 1.3 Regression with k nearest neighbours (kNN)"
   ]
  },
  {
   "cell_type": "markdown",
   "metadata": {},
   "source": [
    "Unlike linear and ridge regression, kNN is is a an example of a local model instead of a linear model. Given a data point, the predicted value is computed by taking a mean value from the k nearest neighbours. Compared to linear and ridge regression, a local model like kNN is more flexible since it does not assume a parametric form for the model [1].\n",
    "\n",
    "It is important to determine the optimal k value, which again is a result of bias-variance tradeoff. For example, for small k values, the fit is less smooth than that of large k and that it has a low bias but high variance."
   ]
  },
  {
   "cell_type": "code",
   "execution_count": 20,
   "metadata": {},
   "outputs": [],
   "source": [
    "def standardise(X, mu, sigma):\n",
    "    '''\n",
    "    Arguments:\n",
    "    X: numpy array, The data to be standardised\n",
    "    mu: float, The mean value to be used to standardise X\n",
    "    sigma: float, The standard deviation to be used to standardise X\n",
    "    \n",
    "    Returns:\n",
    "    The standardised data '''\n",
    "    return (X-mu)/sigma"
   ]
  },
  {
   "cell_type": "code",
   "execution_count": 21,
   "metadata": {},
   "outputs": [],
   "source": [
    "def distance(x, y):\n",
    "    '''\n",
    "    Arguments:\n",
    "    x: numpy array, a vector\n",
    "    y: numpy array, a vector\n",
    "    \n",
    "    Returns:\n",
    "    The Euclidean distance between these two vectors\n",
    "    '''\n",
    "    return np.linalg.norm(x-y)"
   ]
  },
  {
   "cell_type": "code",
   "execution_count": 22,
   "metadata": {},
   "outputs": [],
   "source": [
    "# Standardising both the training and test data using the standard deviation of the training set\n",
    "mu = np.mean(X_train[:,1:], 0)\n",
    "sigma = np.std(X_train[:,1:], 0)\n",
    "\n",
    "X_train_stand = standardise(X_train[:,1:], mu, sigma)\n",
    "X_test_stand = standardise(X_test[:,1:], mu, sigma)"
   ]
  },
  {
   "cell_type": "code",
   "execution_count": 23,
   "metadata": {},
   "outputs": [],
   "source": [
    "# Splitting into five folds\n",
    "X_fold_val, Y_fold_val, X_fold_train, Y_fold_train = T_fold_split(X_train_stand, Y_train)"
   ]
  },
  {
   "cell_type": "code",
   "execution_count": 24,
   "metadata": {},
   "outputs": [],
   "source": [
    "def k_neighbours(X_test, X_train, Y_train, k=5, return_distance=False):\n",
    "    '''\n",
    "    \n",
    "    Arguments:\n",
    "    X_test: numpy array, the testing data set.\n",
    "    X_train: numpy array, the training data set.\n",
    "    Y_train: numpy array, the output values of the the training data set.\n",
    "    k: int, number of neighbours.\n",
    "    return_distance: boolean and is False by default. If this is true, the function returns the distances.\n",
    "    \n",
    "    Returns:\n",
    "    neigh_ind: numpy array, An array the k nearest neighbours\n",
    "    distance: list, a list of the distances\n",
    "    '''\n",
    "\n",
    "    n_neighbours = k\n",
    "    dist = []\n",
    "    neigh_ind = []\n",
    "\n",
    "    # compute distance from each point x_text in X_test to all points in X_train \n",
    "    point_dist = []\n",
    "    for x in X_test:\n",
    "        a = []\n",
    "        for y in X_train:\n",
    "            a.append(distance(x, y))\n",
    "        point_dist.append(a)\n",
    "    \n",
    "    # determine which k training points are closest to each test point\n",
    "    for row in point_dist:\n",
    "      enum_neigh = enumerate(row)\n",
    "      sorted_neigh = sorted(enum_neigh, key=lambda x: x[1])[:k]\n",
    "\n",
    "      ind_list = [tup[0] for tup in sorted_neigh]\n",
    "      dist_list = [tup[1] for tup in sorted_neigh]\n",
    "\n",
    "      dist.append(dist_list)\n",
    "      neigh_ind.append(ind_list)\n",
    "\n",
    "    # return distances together with indices of k nearest neighbouts\n",
    "    if return_distance:\n",
    "      return np.array(dist), np.array(neigh_ind)\n",
    "\n",
    "    return np.array(neigh_ind)"
   ]
  },
  {
   "cell_type": "code",
   "execution_count": 25,
   "metadata": {},
   "outputs": [],
   "source": [
    "def reg_predict(X_test, X_train, Y_train, k=5):\n",
    "    '''\n",
    "    Arguments:\n",
    "    X_test: numpy array, the testing data set.\n",
    "    X_train: numpy array, the training data set.\n",
    "    Y_train: numpy array, the output values of the the training data set.\n",
    "    k: int, the number of neighbours\n",
    "    \n",
    "    Returns:\n",
    "    y_pred: numpy array, the predictions\n",
    "    '''\n",
    "    # each of the k neighbours contributes equally to the classification of any data point in X_test  \n",
    "    neighbours = k_neighbours(X_test, X_train, Y_train, k=k)\n",
    "    # compute mean over neighbours labels \n",
    "    y_pred = np.array([np.mean(Y_train[neighbour]) for neighbour in neighbours]) \n",
    "\n",
    "    return y_pred"
   ]
  },
  {
   "cell_type": "markdown",
   "metadata": {},
   "source": [
    "# 1.3.1"
   ]
  },
  {
   "cell_type": "markdown",
   "metadata": {},
   "source": [
    "Again I used a grid search method and 5 fold cross-validation to find the k and this process is first demonstrated using the first fold."
   ]
  },
  {
   "cell_type": "markdown",
   "metadata": {},
   "source": [
    "A grid of values of the k were created. The MSE corresponding to each of these values was calculated and hence, the optimal k can be determined by finding the value that corresponds to the smallest MSE in the grid search."
   ]
  },
  {
   "cell_type": "markdown",
   "metadata": {},
   "source": [
    "# Cross validation of kNN using one fold"
   ]
  },
  {
   "cell_type": "code",
   "execution_count": 26,
   "metadata": {},
   "outputs": [],
   "source": [
    "k_values = range(1,20)\n",
    "mse_1fold_lst = []\n",
    "for k in k_values:\n",
    "    y_1fold_pred = reg_predict(X_fold_val[2], X_fold_train[2], Y_fold_train[2], k = k)\n",
    "    \n",
    "    mse_1fold_lst.append(MSE(y_1fold_pred, Y_fold_val[2]))"
   ]
  },
  {
   "cell_type": "code",
   "execution_count": 27,
   "metadata": {},
   "outputs": [
    {
     "data": {
      "text/plain": [
       "[<matplotlib.lines.Line2D at 0x1a22dc7748>]"
      ]
     },
     "execution_count": 27,
     "metadata": {},
     "output_type": "execute_result"
    },
    {
     "data": {
      "image/png": "[encoded data removed]",
      "text/plain": [
       "<Figure size 576x396 with 1 Axes>"
      ]
     },
     "metadata": {},
     "output_type": "display_data"
    }
   ],
   "source": [
    "plt.title('The dependence of the mean squared errors on the number of neighbours for the first fold')\n",
    "plt.xlabel('number neighbours')\n",
    "plt.ylabel('mean squaure error')\n",
    "plt.plot(k_values, mse_1fold_lst)"
   ]
  },
  {
   "cell_type": "code",
   "execution_count": 28,
   "metadata": {},
   "outputs": [
    {
     "name": "stdout",
     "output_type": "stream",
     "text": [
      "The k value obtained for one fold is 2.\n",
      "The corresponding MSE is 11.295.\n"
     ]
    }
   ],
   "source": [
    "print(f'The k value obtained for one fold is {k_values[np.argmin(mse_1fold_lst)]}.')\n",
    "print(f'The corresponding MSE is {round(min(mse_1fold_lst), 3)}.')"
   ]
  },
  {
   "cell_type": "markdown",
   "metadata": {},
   "source": [
    "It can again be seen that there is clear minimum which is at low value of k but when k is too small, the error increases again. This is because small k can lead to overfitting while large k can lead to underfitting. It can also be seen from the graph that at very large k, the MSE levels off. I think this is due to the fact that when too many neighbours are being considered, the locality of the kNN model decreases and the estimation then tends to the mean of the set. However, this depends hugely on the validation and train set, and hence it is important to consider the distubtion from the other folds as follows,"
   ]
  },
  {
   "cell_type": "markdown",
   "metadata": {},
   "source": [
    "# Distrubtion of error"
   ]
  },
  {
   "cell_type": "code",
   "execution_count": 29,
   "metadata": {},
   "outputs": [],
   "source": [
    "y_1fold_pred = reg_predict(X_fold_val[2], X_fold_train[2], Y_fold_train[2], k = 2)\n",
    "error_1fold = Y_fold_val[2] - y_1fold_pred"
   ]
  },
  {
   "cell_type": "code",
   "execution_count": 30,
   "metadata": {},
   "outputs": [
    {
     "data": {
      "text/plain": [
       "<matplotlib.axes._subplots.AxesSubplot at 0x1a22e5e2b0>"
      ]
     },
     "execution_count": 30,
     "metadata": {},
     "output_type": "execute_result"
    },
    {
     "data": {
      "image/png": "[encoded data removed]",
      "text/plain": [
       "<Figure size 576x396 with 1 Axes>"
      ]
     },
     "metadata": {},
     "output_type": "display_data"
    }
   ],
   "source": [
    "plt.title('Distribution of error in the first fold')\n",
    "plt.xlabel('error')\n",
    "plt.ylabel('probabilty')\n",
    "sns.distplot(error_1fold)\n"
   ]
  },
  {
   "cell_type": "markdown",
   "metadata": {},
   "source": [
    "From the graph above, it seems the error from kNN model resembles the shape of a Guassian distribution centred at zero. Moreover, since it is centred at zero, this suggests that the kNN is not over-estimating nor under-estimatting from the predicttions. This also seems to suggest kNN is an appropriate model for this data."
   ]
  },
  {
   "cell_type": "code",
   "execution_count": 31,
   "metadata": {},
   "outputs": [],
   "source": [
    "# finding mean mse across folds\n",
    "\n",
    "mse_list_knn = []\n",
    "for k in k_values:\n",
    "    mse_t_mean_knn = 0 #Initialised the mean MSE\n",
    "    for fold in range(5): # Calculating the MSE from each fold\n",
    "        y_pred = reg_predict(X_fold_val[fold], X_fold_train[fold], Y_fold_train[fold], k = k)\n",
    "        mse_knn = MSE(y_pred, Y_fold_val[fold])\n",
    "        mse_t_mean_knn += mse_knn # Adding this to the average MSE\n",
    "        \n",
    "    mse_t_mean = mse_t_mean_knn/5\n",
    "    mse_list_knn.append(mse_t_mean)"
   ]
  },
  {
   "cell_type": "code",
   "execution_count": 32,
   "metadata": {},
   "outputs": [
    {
     "data": {
      "text/plain": [
       "[<matplotlib.lines.Line2D at 0x10d853588>]"
      ]
     },
     "execution_count": 32,
     "metadata": {},
     "output_type": "execute_result"
    },
    {
     "data": {
      "image/png": "[encoded data removed]",
      "text/plain": [
       "<Figure size 576x396 with 1 Axes>"
      ]
     },
     "metadata": {},
     "output_type": "display_data"
    }
   ],
   "source": [
    "plt.title('The dependence of the mean squared errors on the number of neighbours across 5 folds')\n",
    "plt.xlabel('number of neighbours')\n",
    "plt.ylabel('mean squared error')\n",
    "plt.plot(k_values, mse_list_knn)"
   ]
  },
  {
   "cell_type": "code",
   "execution_count": 33,
   "metadata": {},
   "outputs": [
    {
     "name": "stdout",
     "output_type": "stream",
     "text": [
      "The optimal value of k obtained from the 5-fold cross validation is 2.\n"
     ]
    }
   ],
   "source": [
    "optimal_k = k_values[np.argmin(mse_list_knn)]\n",
    "print(f'The optimal value of k obtained from the 5-fold cross validation is {optimal_k}.')"
   ]
  },
  {
   "cell_type": "markdown",
   "metadata": {},
   "source": [
    "# 1.3.2"
   ]
  },
  {
   "cell_type": "code",
   "execution_count": 34,
   "metadata": {},
   "outputs": [
    {
     "name": "stdout",
     "output_type": "stream",
     "text": [
      "The in-sample mean squared error of the kNN model is 3.970810643564354.\n",
      "\n",
      "The out-of-sample mean squared error of the kNN model is 13.76362745098039.\n"
     ]
    }
   ],
   "source": [
    "y_train_knn = reg_predict(X_train_stand, X_train_stand, Y_train, k = optimal_k)\n",
    "mse_train_knn = MSE(y_train_knn, Y_train)\n",
    "print(f'The in-sample mean squared error of the kNN model is {mse_train_knn}.\\n')\n",
    "\n",
    "y_test_knn = reg_predict(X_test_stand, X_train_stand, Y_train, k = optimal_k)\n",
    "mse_test_knn = MSE(y_test_knn, Y_test)\n",
    "print(f'The out-of-sample mean squared error of the kNN model is {mse_test_knn}.')"
   ]
  },
  {
   "cell_type": "markdown",
   "metadata": {},
   "source": [
    "A table was created to summarise the performance of the three regression models from above."
   ]
  },
  {
   "cell_type": "code",
   "execution_count": 35,
   "metadata": {},
   "outputs": [
    {
     "data": {
      "text/html": [
       "<div>\n",
       "<style scoped>\n",
       "    .dataframe tbody tr th:only-of-type {\n",
       "        vertical-align: middle;\n",
       "    }\n",
       "\n",
       "    .dataframe tbody tr th {\n",
       "        vertical-align: top;\n",
       "    }\n",
       "\n",
       "    .dataframe thead th {\n",
       "        text-align: right;\n",
       "    }\n",
       "</style>\n",
       "<table border=\"1\" class=\"dataframe\">\n",
       "  <thead>\n",
       "    <tr style=\"text-align: right;\">\n",
       "      <th></th>\n",
       "      <th>train accuracy</th>\n",
       "      <th>test accuracy</th>\n",
       "    </tr>\n",
       "  </thead>\n",
       "  <tbody>\n",
       "    <tr>\n",
       "      <th>linear regression</th>\n",
       "      <td>24.369247</td>\n",
       "      <td>19.557376</td>\n",
       "    </tr>\n",
       "    <tr>\n",
       "      <th>ridge regression</th>\n",
       "      <td>24.568223</td>\n",
       "      <td>19.366684</td>\n",
       "    </tr>\n",
       "    <tr>\n",
       "      <th>k nearest neighbours</th>\n",
       "      <td>3.970811</td>\n",
       "      <td>13.763627</td>\n",
       "    </tr>\n",
       "  </tbody>\n",
       "</table>\n",
       "</div>"
      ],
      "text/plain": [
       "                      train accuracy  test accuracy\n",
       "linear regression          24.369247      19.557376\n",
       "ridge regression           24.568223      19.366684\n",
       "k nearest neighbours        3.970811      13.763627"
      ]
     },
     "execution_count": 35,
     "metadata": {},
     "output_type": "execute_result"
    }
   ],
   "source": [
    "summary_mat = np.zeros((3,2))\n",
    "\n",
    "summary_mat[0,0] = MSE_train_LR\n",
    "summary_mat[0,1] = MSE_test_LR\n",
    "\n",
    "summary_mat[1,0] = mse_train_rr\n",
    "summary_mat[1,1] = mse_test_rr\n",
    "\n",
    "summary_mat[2,0] = mse_train_knn\n",
    "summary_mat[2,1] = mse_test_knn\n",
    "\n",
    "df_summary = pd.DataFrame(summary_mat, columns = ['train accuracy', 'test accuracy'],\n",
    "                         index = ['linear regression', 'ridge regression', 'k nearest neighbours'])\n",
    "\n",
    "df_summary"
   ]
  },
  {
   "cell_type": "markdown",
   "metadata": {},
   "source": [
    "It is clear that the in-sample MSE of the kNN model is significantly smaller its out-of-sample MSE. This is because when the train set is used, the calulation of the prediction includes the data point itself, meaning it includes a data point with perfect accuracy. After taking the mean of the error from the remaining two points, this then results in a small MSE.\n",
    "\n",
    "It is also clear that the out-of-sample error of kNN is significantly smaller than that of linear regression and ridge regression, which is due to the fact that kNN is a local model and suggests that the descriptors are better modelled non-linearly and that the data is homogenous. Nonetheless, the out-of-sample is lower than that of linear regression and ridge regression, implying this is the best model out of the three. "
   ]
  },
  {
   "cell_type": "markdown",
   "metadata": {},
   "source": [
    "# Task 2 Classification"
   ]
  },
  {
   "cell_type": "code",
   "execution_count": 36,
   "metadata": {},
   "outputs": [],
   "source": [
    "# Importing the classification data set.\n",
    "df2_train = pd.read_csv('classification_train.csv', header = None)\n",
    "df2_test = pd.read_csv('classification_test.csv', header = None)\n",
    "data2 = df2_train.to_numpy()\n",
    "np.random.seed(18)\n",
    "np.random.shuffle(data2)"
   ]
  },
  {
   "cell_type": "code",
   "execution_count": 37,
   "metadata": {
    "scrolled": true
   },
   "outputs": [
    {
     "data": {
      "text/html": [
       "<div>\n",
       "<style scoped>\n",
       "    .dataframe tbody tr th:only-of-type {\n",
       "        vertical-align: middle;\n",
       "    }\n",
       "\n",
       "    .dataframe tbody tr th {\n",
       "        vertical-align: top;\n",
       "    }\n",
       "\n",
       "    .dataframe thead th {\n",
       "        text-align: right;\n",
       "    }\n",
       "</style>\n",
       "<table border=\"1\" class=\"dataframe\">\n",
       "  <thead>\n",
       "    <tr style=\"text-align: right;\">\n",
       "      <th></th>\n",
       "      <th>0</th>\n",
       "      <th>1</th>\n",
       "      <th>2</th>\n",
       "      <th>3</th>\n",
       "      <th>4</th>\n",
       "      <th>5</th>\n",
       "      <th>6</th>\n",
       "      <th>7</th>\n",
       "      <th>8</th>\n",
       "      <th>9</th>\n",
       "      <th>10</th>\n",
       "      <th>11</th>\n",
       "    </tr>\n",
       "  </thead>\n",
       "  <tbody>\n",
       "    <tr>\n",
       "      <th>0</th>\n",
       "      <td>0.205882</td>\n",
       "      <td>1.0</td>\n",
       "      <td>0.020854</td>\n",
       "      <td>0.5</td>\n",
       "      <td>1.00</td>\n",
       "      <td>1.000000</td>\n",
       "      <td>0.666667</td>\n",
       "      <td>0.333333</td>\n",
       "      <td>0.232143</td>\n",
       "      <td>1.000000</td>\n",
       "      <td>1.0</td>\n",
       "      <td>1.0</td>\n",
       "    </tr>\n",
       "    <tr>\n",
       "      <th>1</th>\n",
       "      <td>0.205882</td>\n",
       "      <td>0.5</td>\n",
       "      <td>0.121712</td>\n",
       "      <td>0.0</td>\n",
       "      <td>0.50</td>\n",
       "      <td>0.333333</td>\n",
       "      <td>0.333333</td>\n",
       "      <td>0.666667</td>\n",
       "      <td>0.053571</td>\n",
       "      <td>0.666667</td>\n",
       "      <td>0.0</td>\n",
       "      <td>0.0</td>\n",
       "    </tr>\n",
       "    <tr>\n",
       "      <th>2</th>\n",
       "      <td>0.161765</td>\n",
       "      <td>0.5</td>\n",
       "      <td>0.108452</td>\n",
       "      <td>0.5</td>\n",
       "      <td>0.50</td>\n",
       "      <td>0.333333</td>\n",
       "      <td>1.000000</td>\n",
       "      <td>0.666667</td>\n",
       "      <td>0.017857</td>\n",
       "      <td>0.666667</td>\n",
       "      <td>0.0</td>\n",
       "      <td>1.0</td>\n",
       "    </tr>\n",
       "    <tr>\n",
       "      <th>3</th>\n",
       "      <td>0.294118</td>\n",
       "      <td>0.5</td>\n",
       "      <td>0.192528</td>\n",
       "      <td>0.0</td>\n",
       "      <td>0.25</td>\n",
       "      <td>0.333333</td>\n",
       "      <td>1.000000</td>\n",
       "      <td>0.666667</td>\n",
       "      <td>0.125000</td>\n",
       "      <td>0.666667</td>\n",
       "      <td>0.0</td>\n",
       "      <td>1.0</td>\n",
       "    </tr>\n",
       "    <tr>\n",
       "      <th>4</th>\n",
       "      <td>0.161765</td>\n",
       "      <td>1.0</td>\n",
       "      <td>0.039892</td>\n",
       "      <td>0.0</td>\n",
       "      <td>0.50</td>\n",
       "      <td>0.333333</td>\n",
       "      <td>0.666667</td>\n",
       "      <td>0.333333</td>\n",
       "      <td>0.107143</td>\n",
       "      <td>0.666667</td>\n",
       "      <td>0.0</td>\n",
       "      <td>1.0</td>\n",
       "    </tr>\n",
       "  </tbody>\n",
       "</table>\n",
       "</div>"
      ],
      "text/plain": [
       "         0    1         2    3     4         5         6         7         8   \\\n",
       "0  0.205882  1.0  0.020854  0.5  1.00  1.000000  0.666667  0.333333  0.232143   \n",
       "1  0.205882  0.5  0.121712  0.0  0.50  0.333333  0.333333  0.666667  0.053571   \n",
       "2  0.161765  0.5  0.108452  0.5  0.50  0.333333  1.000000  0.666667  0.017857   \n",
       "3  0.294118  0.5  0.192528  0.0  0.25  0.333333  1.000000  0.666667  0.125000   \n",
       "4  0.161765  1.0  0.039892  0.0  0.50  0.333333  0.666667  0.333333  0.107143   \n",
       "\n",
       "         9    10   11  \n",
       "0  1.000000  1.0  1.0  \n",
       "1  0.666667  0.0  0.0  \n",
       "2  0.666667  0.0  1.0  \n",
       "3  0.666667  0.0  1.0  \n",
       "4  0.666667  0.0  1.0  "
      ]
     },
     "execution_count": 37,
     "metadata": {},
     "output_type": "execute_result"
    }
   ],
   "source": [
    "df2_train.head() #To check a brief check on the data, allowing us to know the sort of data we are working with"
   ]
  },
  {
   "cell_type": "code",
   "execution_count": 38,
   "metadata": {},
   "outputs": [],
   "source": [
    "# Train set\n",
    "Y2_train = data2[:,-1]\n",
    "X2_train = data2[:, :data2.shape[1]-1]\n",
    "\n",
    "#Testset\n",
    "Y2_test = df2_test[11].to_numpy().T\n",
    "X2_test = df2_test.drop(columns = [11]).to_numpy()"
   ]
  },
  {
   "cell_type": "code",
   "execution_count": 39,
   "metadata": {},
   "outputs": [],
   "source": [
    "# Splittig into five folds\n",
    "X2_fold_val, Y2_fold_val, X2_fold_train, Y2_fold_train = T_fold_split(X2_train, Y2_train)"
   ]
  },
  {
   "cell_type": "markdown",
   "metadata": {},
   "source": [
    "# 2.1 Logistic Regression\n"
   ]
  },
  {
   "cell_type": "markdown",
   "metadata": {},
   "source": [
    "Logistic regression is a powerful machine learning method that works particularly well with binary classification. So first we assume the probabilty of an input data $\\boldsymbol{X}$ can be related to the logistic function as follow,\n",
    "$$\n",
    "P(y=1)=\\frac{1}{1+e^{-\\mathbf{x}^{T} \\boldsymbol{\\beta}}} = h_{\\boldsymbol{\\beta}}(\\mathbf{x})\n",
    "$$\n",
    "\n",
    "By assuming independence in the data, we can obtain the log-likelihood, which we then define to be the cost function:\n",
    "\\begin{equation}\n",
    "\\mathcal{L}=\\sum_{i=1}^{N} y^{(i)} \\log h_{\\boldsymbol{\\beta}}\\left(\\mathbf{x}^{(i)}\\right)+\\left(1-y^{(i)}\\right) \\log \\left(1-h_{\\boldsymbol{\\beta}}\\left(\\mathbf{x}^{(i)}\\right)\\right)\n",
    "\\end{equation}\n",
    "\n",
    "We then need to optimise this loss function to obtain a best estimate of $ \\boldsymbol\\beta$, which can be achieved by gradent descent. Then we need find a optimal decision threshold so that we can calculate the probabilty of a given data point using the logistic function and compare it to the decision threshold to classify this data point into binary categories."
   ]
  },
  {
   "cell_type": "code",
   "execution_count": 40,
   "metadata": {},
   "outputs": [],
   "source": [
    "def logistic(x):\n",
    "    '''\n",
    "    This defines the logistic function.\n",
    "    '''\n",
    "    return 1 / (1 + np.exp(-x)) "
   ]
  },
  {
   "cell_type": "code",
   "execution_count": 41,
   "metadata": {},
   "outputs": [],
   "source": [
    "def predict_log(X, beta, beta_0):\n",
    "  y_log = logistic(beta.T @ X + beta_0) \n",
    "  return y_log"
   ]
  },
  {
   "cell_type": "code",
   "execution_count": 42,
   "metadata": {},
   "outputs": [],
   "source": [
    "def initialise(d):\n",
    "  \"\"\"    \n",
    "  Argument:\n",
    "  d: size of the beta vector (or number of parameters)\n",
    "  \n",
    "  Returns:\n",
    "  beta: initialised vector of shape (d, 1)\n",
    "  beta_0: initialised scalar (corresponds to the offset)\n",
    "  \"\"\"\n",
    "  \n",
    "  beta = np.zeros(shape=(d, 1), dtype=np.float32)\n",
    "  beta_0 = 0\n",
    "  \n",
    "  assert(beta.shape==(d, 1))\n",
    "  assert(isinstance(beta_0, float) or isinstance(beta_0, int))\n",
    "  \n",
    "  return beta, beta_0"
   ]
  },
  {
   "cell_type": "markdown",
   "metadata": {},
   "source": [
    "For gradient descent, we need to first calculate the derivatives of the loss function with respect to $\\boldsymbol \\beta$ and $\\beta_0$ as follows:\n",
    "$$\n",
    "\\frac{\\partial \\mathcal L}{\\partial \\boldsymbol \\beta} = \\frac{1}{n} \\sum_{i=1}^n ( y^{(i)} - \\hat{y}_{\\text{log}}^{(i)}) X^{(i)}\n",
    "$$\n",
    " \n",
    "$$\n",
    "\\frac{\\partial \\mathcal L}{\\partial \\beta_0} = \\frac{1}{n} \\sum_{i=1}^n ( y^{(i)} - \\hat{y}_{\\text{log}}^{(i)})\n",
    "$$\n",
    "\n",
    "These were implemented in the propagate function below, which computes the gradient and cost at some given points. The calculated gradient and cost are then used in the optimise function to optimse the cost function by descending towards to the minimum."
   ]
  },
  {
   "cell_type": "code",
   "execution_count": 43,
   "metadata": {},
   "outputs": [],
   "source": [
    "## EDIT THIS FUNCTION\n",
    "def propagate(X, y, beta, beta_0):\n",
    "  \"\"\"\n",
    "  Arguments:\n",
    "  X: data of size (d, n)\n",
    "  y: true label vector of size (1, n)\n",
    "  beta: parameters, a numpy array of size (d, 1)\n",
    "  beta_0: offset, a scalar\n",
    "\n",
    "  Returns:\n",
    "  cost: negative log-likelihood cost for logistic regression\n",
    "  dbeta: gradient of the loss with respect to beta\n",
    "  dbeta_0: gradient of the loss with respect to beta_0\n",
    "  \"\"\"\n",
    "  n = X.shape[1]\n",
    "  y_log = predict_log(X, beta, beta_0)\n",
    "\n",
    "  # cost function\n",
    "  cost = (-1) * np.mean(np.multiply(y, np.log(y_log)) + np.multiply(1-y, np.log(1 - y_log)), axis=1)\n",
    "\n",
    "  # derivatives\n",
    "  dbeta = (1/n) * X @ np.transpose(y_log - y)  \n",
    "  dbeta_0 =  np.mean((y_log - y)) \n",
    "\n",
    "  assert(dbeta.shape==beta.shape)\n",
    "  assert(dbeta_0.dtype==float)\n",
    "  cost = np.squeeze(cost)\n",
    "  assert(cost.shape==())\n",
    "  \n",
    "  # store gradients in a dictionary\n",
    "  grads = {\"dbeta\": dbeta, \"dbeta_0\": dbeta_0}\n",
    "  \n",
    "  return grads, cost"
   ]
  },
  {
   "cell_type": "code",
   "execution_count": 44,
   "metadata": {},
   "outputs": [],
   "source": [
    "## EDIT THIS FUNCTION\n",
    "def optimise(X, y, beta, beta_0, num_iterations=1000, learning_rate=0.005, print_cost=False):\n",
    "  \"\"\"\n",
    "  Arguments:\n",
    "  X: data of size (d, n)\n",
    "  y: true label vector of size (1, n)\n",
    "  beta: parameters, a numpy array of size (d, 1)\n",
    "  beta_0: offset, a scalar\n",
    "  num_iterations: number of iterations gradient descent shall update the parameters\n",
    "  learning_rate: step size in updating procedure\n",
    "  print_cost: whether to print the cost every 100 iterations or not\n",
    "\n",
    "  Returns:\n",
    "  params: dictionary containing the parameters beta and offset beta_0\n",
    "  grads: dictionary containing the gradients\n",
    "  costs: list of all the costs computed during the optimisation (can be used to plot the learning curve).\n",
    "  \"\"\"\n",
    "  costs = []\n",
    "    \n",
    "  for i in range(num_iterations):\n",
    "\n",
    "      # calculate cost and gradients\n",
    "      grads, cost = propagate(X, y, beta, beta_0)  \n",
    "      \n",
    "      # retrieve derivatives from grads\n",
    "      dbeta = grads[\"dbeta\"]\n",
    "      dbeta_0 = grads[\"dbeta_0\"]\n",
    "      \n",
    "      # updating procedure\n",
    "      beta = beta - learning_rate * dbeta  \n",
    "      beta_0 = beta_0 - learning_rate * dbeta_0  \n",
    "      \n",
    "      # record the costs\n",
    "      if i % 100 == 0:\n",
    "          costs.append(cost)\n",
    "      \n",
    "      # print the cost every 100 iterations\n",
    "      if print_cost and i % 100 == 0:\n",
    "          print (\"cost after iteration %i: %f\" %(i, cost))\n",
    "  \n",
    "  # save parameters and gradients in dictionary\n",
    "  params = {\"beta\": beta, \"beta_0\": beta_0}\n",
    "  grads = {\"dbeta\": dbeta, \"dbeta_0\": dbeta_0}\n",
    "  \n",
    "  return params, grads, costs\n"
   ]
  },
  {
   "cell_type": "markdown",
   "metadata": {},
   "source": [
    "The predict function below uses $\\boldsymbol \\beta$ and $\\beta_0$ obtained from the optimisation to predict a given data set."
   ]
  },
  {
   "cell_type": "code",
   "execution_count": 45,
   "metadata": {
    "executionInfo": {
     "elapsed": 548,
     "status": "ok",
     "timestamp": 1607080496008,
     "user": {
      "displayName": "Felix Laumann",
      "photoUrl": "https://lh3.googleusercontent.com/a-/AOh14GhmStpe6E-gLWEG78qMXTCOTw1W_IBUPBbFJXZ7pw=s64",
      "userId": "13817614696536163905"
     },
     "user_tz": 0
    },
    "id": "EtVG0I2w90sk"
   },
   "outputs": [],
   "source": [
    "## EDIT THIS FUNCTION\n",
    "def predict(X_test, beta, beta_0, threshold = 0.5):\n",
    "  \"\"\"\n",
    "  Arguments:\n",
    "  X_test: test data of size (d, n)\n",
    "  beta: parameters, a numpy array of size (d, 1)\n",
    "  beta_0: offset, a scalar\n",
    "\n",
    "  Returns:\n",
    "  y_pred: vector containing all binary predictions (0/1) for the examples in X_test\n",
    "  \"\"\"\n",
    "  n = X_test.shape[1]\n",
    "  y_pred = np.zeros((1,n))\n",
    "  beta = beta.reshape(X_test.shape[0], 1)\n",
    "  \n",
    "  # compute vector y_log predicting the probabilities\n",
    "  y_log = predict_log(X_test, beta, beta_0)\n",
    "  \n",
    "  for i in range(y_log.shape[1]):\n",
    "      \n",
    "      # convert probabilities y_log to actual predictions y_pred\n",
    "      if y_log[0, i] > threshold:\n",
    "          y_pred[0, i] = 1  \n",
    "      else:\n",
    "          y_pred[0, i] = 0  \n",
    "  \n",
    "  assert(y_pred.shape==(1, n))\n",
    "  \n",
    "  return y_pred"
   ]
  },
  {
   "cell_type": "markdown",
   "metadata": {
    "id": "I9p1-IQcZ_aJ"
   },
   "source": [
    "A pythonic way to define an algorithm is placing all functions in one model that has all hyperparameters as arguments. This allows you to quickly evaluate different hyperparameters and optimise over these. So, let's do this:"
   ]
  },
  {
   "cell_type": "code",
   "execution_count": 46,
   "metadata": {
    "executionInfo": {
     "elapsed": 770,
     "status": "ok",
     "timestamp": 1607080497024,
     "user": {
      "displayName": "Felix Laumann",
      "photoUrl": "https://lh3.googleusercontent.com/a-/AOh14GhmStpe6E-gLWEG78qMXTCOTw1W_IBUPBbFJXZ7pw=s64",
      "userId": "13817614696536163905"
     },
     "user_tz": 0
    },
    "id": "GA_yAaPu90rI"
   },
   "outputs": [],
   "source": [
    "def model(X_train, y_train, X_test, y_test, threshold, num_iterations=2000, learning_rate=0.5, print_cost=False):\n",
    "  '''\n",
    "  Arguments:\n",
    "  X_train: numpy array, the training data\n",
    "  y_train: numpy array, the true result of the training data\n",
    "  X_test: numpy array, the test data\n",
    "  y_train: numpy array, the true result of the test data\n",
    "  threshold: float, the decision threshold\n",
    "  num_iterations: int, the number of iterations for the gradient descent\n",
    "  learning_rate: float, the learning rate of the gradient descent\n",
    "  print cost: boolean and False by default, if this is is true, it prints the cost every 100 iterations \n",
    "  Returns:\n",
    "  d: dict, a dictionary containg the information of the model, including the cost, preictions of test and train data,\n",
    "     fitting parameters, learning rate and the number of iterations\n",
    "  test_accuracy: float, The accuracy of prediction\n",
    "  \n",
    "  '''  \n",
    "    \n",
    "    \n",
    "  # initialize parameters with zeros\n",
    "  beta, beta_0 = initialise(X_train.shape[0])\n",
    "\n",
    "  # gradient descent\n",
    "  parameters, grads, costs = optimise(X_train, y_train, beta, beta_0, num_iterations, learning_rate, print_cost=print_cost)\n",
    "\n",
    "  # retrieve parameters beta and beta_0 from dictionary \"parameters\"\n",
    "  beta = parameters[\"beta\"]\n",
    "  beta_0 = parameters[\"beta_0\"]\n",
    "\n",
    "  # predict test and train set examples\n",
    "  y_pred_test = predict(X_test, beta, beta_0, threshold)\n",
    "  y_pred_train = predict(X_train, beta, threshold)\n",
    "\n",
    "\n",
    "  test_accuracy = 100 - np.mean(np.abs(y_pred_test - y_test)) * 100\n",
    "    \n",
    "  # saving all information\n",
    "  d = {\"costs\": costs, \"y_pred_test\": y_pred_test, \"y_pred_train\": y_pred_train, \"beta\": beta, \"beta_0\": beta_0, \"learning_rate\": learning_rate, \"num_iterations\": num_iterations}\n",
    "  \n",
    "  return d, test_accuracy"
   ]
  },
  {
   "cell_type": "code",
   "execution_count": null,
   "metadata": {},
   "outputs": [],
   "source": []
  },
  {
   "cell_type": "code",
   "execution_count": 47,
   "metadata": {},
   "outputs": [],
   "source": [
    "test_acc_list_2d = []\n",
    "\n",
    "# Define the grid of values to scan through.\n",
    "alpha_values = [0.0001, 0.001, 0.005, 0.01, 0.02, 0.05, 0.1, 1]\n",
    "threshold_values = np.arange(0.3, 0.8, 0.05)\n",
    "\n",
    "for alpha in alpha_values: # Scanning for each alpha value\n",
    "    test_acc_list = []\n",
    "    \n",
    "    for threshold in threshold_values:  # scanning for each decision threshold\n",
    "        test_acc = 0\n",
    "        for fold in range(5): # scanning each fold\n",
    "            test_accuracy = model(X2_fold_train[fold].T, Y2_fold_train[fold], X2_fold_val[fold].T, Y2_fold_val[fold], \n",
    "                           threshold = threshold, num_iterations=5000, learning_rate = alpha, print_cost=False)[1]\n",
    "            test_acc += test_accuracy\n",
    "        # adding this to the mean accuracy of across all folds for specific alphas and thresholds  \n",
    "        test_acc = test_acc/5 \n",
    "        test_acc_list.append(test_acc)\n",
    "    test_acc_list_2d.append(test_acc_list)"
   ]
  },
  {
   "cell_type": "code",
   "execution_count": 48,
   "metadata": {},
   "outputs": [],
   "source": [
    "test_acc_list_2d = np.array(test_acc_list_2d) # converting it into numpy array"
   ]
  },
  {
   "cell_type": "markdown",
   "metadata": {},
   "source": [
    "A heatmap was created to visualise how the accuracies vary with different alpha and thresholds."
   ]
  },
  {
   "cell_type": "code",
   "execution_count": 49,
   "metadata": {},
   "outputs": [
    {
     "data": {
      "image/png": "[encoded data removed]",
      "text/plain": [
       "<Figure size 576x396 with 2 Axes>"
      ]
     },
     "metadata": {},
     "output_type": "display_data"
    }
   ],
   "source": [
    "heatmap = sns.heatmap(np.array(test_acc_list_2d), cmap = 'coolwarm', annot = False,\n",
    "           yticklabels = alpha_values, xticklabels=np.round(threshold_values,3),\n",
    "           cbar_kws={'label': 'Accuracy'})\n",
    "plt.xlabel('Decision threshold')\n",
    "plt.ylabel('learning rate')\n",
    "plt.show()"
   ]
  },
  {
   "cell_type": "markdown",
   "metadata": {},
   "source": [
    "The optimal learning rate and decision threshold were then determined:"
   ]
  },
  {
   "cell_type": "code",
   "execution_count": 50,
   "metadata": {},
   "outputs": [
    {
     "name": "stdout",
     "output_type": "stream",
     "text": [
      "The optimal accuaracy is 74.375%.\n",
      "\n",
      "The optimal learning rate is 0.1.\n",
      "\n",
      "The optimal decision threshold is 0.45.\n"
     ]
    }
   ],
   "source": [
    "index = np.where(test_acc_list_2d == np.max(test_acc_list_2d)) # locate where the maximum accuracy is in the matrix\n",
    "\n",
    "optimal_acc = float(test_acc_list_2d[index[0][0], index[1][0]])\n",
    "print(f'The optimal accuaracy is {optimal_acc}%.\\n')\n",
    "\n",
    "optimal_alpha = alpha_values[int(index[0][0])]\n",
    "print(f'The optimal learning rate is {optimal_alpha}.\\n')\n",
    "\n",
    "optimal_threshold = threshold_values[int(index[1][0])]\n",
    "print(f'The optimal decision threshold is {round(optimal_threshold,3)}.')"
   ]
  },
  {
   "cell_type": "markdown",
   "metadata": {},
   "source": [
    "# 1.3.2\n"
   ]
  },
  {
   "cell_type": "code",
   "execution_count": 51,
   "metadata": {},
   "outputs": [
    {
     "name": "stdout",
     "output_type": "stream",
     "text": [
      "The in-sample accuracy is 74.625%.\n",
      "\n",
      "The out-of-sample accuracy is 73.375%.\n",
      "\n"
     ]
    }
   ],
   "source": [
    "#Calculating the in-sample accuracy\n",
    "acc_train_logistic = model(X2_train.T, Y2_train, X2_train.T, Y2_train, threshold = optimal_threshold, \n",
    "                           num_iterations=5000, learning_rate = optimal_alpha, print_cost=False)[1]\n",
    "print(f'The in-sample accuracy is {acc_train_logistic}%.\\n')\n",
    "\n",
    "#Calculating the out-of-sample accuracy\n",
    "acc_test_logistic = model(X2_test.T, Y2_test, X2_train.T, Y2_train, threshold = optimal_threshold, \n",
    "                          num_iterations=5000, learning_rate = optimal_alpha, print_cost=False)[1]\n",
    "print(f'The out-of-sample accuracy is {acc_test_logistic}%.\\n')"
   ]
  },
  {
   "cell_type": "markdown",
   "metadata": {},
   "source": [
    "The in-sample and out-of-sample accuracies are very close, which suggests the regression was not overfitted. Moreover, an accuracy of ~74% is acceptable and could have practical uses. Although the logistic regression seems to have produced a good accuracy, however it is important to consider other models as well. One key disadvantages of logistic regression is that it becomes unstable when the data can be well separated [1]."
   ]
  },
  {
   "cell_type": "markdown",
   "metadata": {},
   "source": [
    "# 2.2 Random Forest\n"
   ]
  },
  {
   "cell_type": "markdown",
   "metadata": {},
   "source": [
    "Random forest is a popular classification machine learning technique. It starts with a decision tree, which is trained by splitting the input data into categories. When a new data point is passed into the algorithm, this data point undergoes the splitting, depending on its properties. Finally this data point would reach a region, from which a majority vote was used to label this new data point.\n",
    "\n",
    "A random forest is an ensemble of trees, which is built by first bootstrapping, which involves generating random samples with replace from a given training data. Then at each split for each tree, we randomly choose a different random subset of predictors, which can prevent certain descriptors from dominating the first seveeral splits, decreasing the correlations between trees and avoiding overfitting. Although it is believed that a high number of trees can improve the accuracy, this reduces the efficiency of the algorithm and increases the computation time, and therefore an optimal number of trees need to be chosen to balance the computation time and the accuracy for an opitmal model. Furthermore, the maximum depth of each tree can make a difference, since a very deep can overfit the data, while a small depth can underfit it.\n",
    "\n",
    "Hence, there are three hyperparameters to be determined: the number of trees in the forest, the maximum number of predictors to be chosen at each split and the depth of the tree. The hyperparameter optimisation was again carried out by 5-fold cross validation."
   ]
  },
  {
   "cell_type": "code",
   "execution_count": 52,
   "metadata": {},
   "outputs": [],
   "source": [
    "# Train set\n",
    "Y2_train = data2[:,-1]\n",
    "X2_train = data2[:, :data2.shape[1]-1]\n",
    "\n",
    "#Testset\n",
    "Y2_test = df2_test[11].to_numpy().T\n",
    "X2_test = df2_test.drop(columns = [11]).to_numpy()"
   ]
  },
  {
   "cell_type": "code",
   "execution_count": 53,
   "metadata": {},
   "outputs": [],
   "source": [
    "df_X2_train = pd.DataFrame(X2_train)\n",
    "df_Y2_train = pd.Series(Y2_train)\n",
    "columns = range(X2_train.shape[1])\n",
    "df_X2_train.columns = columns\n",
    "\n",
    "df_X2_test = pd.DataFrame(X2_test)\n",
    "df_Y2_test = pd.Series(Y2_test)\n",
    "columns = range(X2_test.shape[1])\n",
    "df_X2_test.columns = columns"
   ]
  },
  {
   "cell_type": "markdown",
   "metadata": {},
   "source": [
    "In a decision tree, the first split is chosen to be the one from which most information can be gained and this can be measured through cross entropy (defined in Introduction to Statistical Learning):\n",
    "$$\n",
    "\\text{GI}(\\boldsymbol y) = \\sum_{i=1}^N  P (y_i) log(P (y_i))\n",
    "$$\n",
    "\n",
    "Therefore, in the decision tree, the cross entropy of different possible splits were calucalated, from which the split with the lowest cross entropy is chosen to be the next split."
   ]
  },
  {
   "cell_type": "markdown",
   "metadata": {},
   "source": [
    "# Building a tree/forest"
   ]
  },
  {
   "cell_type": "markdown",
   "metadata": {},
   "source": [
    "First,`gini_purification` can calculate the cross entropy given an array of labels."
   ]
  },
  {
   "cell_type": "code",
   "execution_count": 54,
   "metadata": {
    "executionInfo": {
     "elapsed": 12519,
     "status": "ok",
     "timestamp": 1606391596559,
     "user": {
      "displayName": "Felix Laumann",
      "photoUrl": "https://lh3.googleusercontent.com/a-/AOh14GhmStpe6E-gLWEG78qMXTCOTw1W_IBUPBbFJXZ7pw=s64",
      "userId": "13817614696536163905"
     },
     "user_tz": 0
    },
    "id": "ihQAbjFxEZX4"
   },
   "outputs": [],
   "source": [
    "# EDIT THIS FUNCTION\n",
    "def cross_entropy(y, sample_weights=None):\n",
    "  \"\"\" \n",
    "  Calculate the cross entropy for labels.\n",
    "  Arguments:\n",
    "      y: vector of training labels, of shape (N,).\n",
    "      sample_weights: weights for each samples, of shape (N,).\n",
    "  Returns:\n",
    "      (float): the cross entropy for y.\n",
    "  \"\"\"\n",
    "  if sample_weights is None:\n",
    "      sample_weights = np.ones(y.shape[0]) / y.shape[0]\n",
    "  \n",
    "  ce = 0\n",
    "  num = y.shape[0]  # number of labels\n",
    "  label_counts = {}  # caculate different labels in y，and store in label_counts\n",
    "  for i in range(num):\n",
    "      if y[i] not in label_counts.keys():\n",
    "          label_counts[y[i]] = 0\n",
    "      label_counts[y[i]] += sample_weights[i]\n",
    "  \n",
    "  for key in label_counts:\n",
    "      prob = float(label_counts[key]) / float(np.sum(sample_weights))\n",
    "      ce -= prob * np.log(prob) ## <-- SOLUTION\n",
    "\n",
    "  return ce"
   ]
  },
  {
   "cell_type": "markdown",
   "metadata": {
    "id": "ByxQZ5BHOJIN"
   },
   "source": [
    "Now the `split_dataset` function can split the data into two subsets, using an inequality as the condition to split."
   ]
  },
  {
   "cell_type": "code",
   "execution_count": 55,
   "metadata": {
    "executionInfo": {
     "elapsed": 12515,
     "status": "ok",
     "timestamp": 1606391596561,
     "user": {
      "displayName": "Felix Laumann",
      "photoUrl": "https://lh3.googleusercontent.com/a-/AOh14GhmStpe6E-gLWEG78qMXTCOTw1W_IBUPBbFJXZ7pw=s64",
      "userId": "13817614696536163905"
     },
     "user_tz": 0
    },
    "id": "bd8WFZLKF6iT"
   },
   "outputs": [],
   "source": [
    "def split_dataset(X, y, column, value, sample_weights=None):\n",
    "  \"\"\"\n",
    "  Return the split of data whose column-th feature equals value.\n",
    "  Arguments:\n",
    "      X: training features, of shape (N, D).\n",
    "      y: vector of training labels, of shape (N,).\n",
    "      column: the column of the feature for splitting.\n",
    "      value: the value of the column-th feature for splitting.\n",
    "      sample_weights: weights for each samples, of shape (N,).\n",
    "  Returns:\n",
    "      (np.array): the subset of X whose column-th feature equals value.\n",
    "      (np.array): the subset of y whose column-th feature equals value.\n",
    "      (np.array): the subset of sample weights whose column-th feature equals value.\n",
    "  \"\"\" \n",
    "  ret = []\n",
    "  ret2 = []\n",
    "  featVec = X[:, column]\n",
    "  \n",
    "  for i in range(len(featVec)):\n",
    "      if featVec[i]<=value:\n",
    "          ret.append(i)\n",
    "      else:\n",
    "          ret2.append(i)\n",
    "          \n",
    "  \n",
    "  sub_X = X[ret,:]\n",
    "  sub_y = y[ret]\n",
    "  sub_sample_weights = sample_weights[ret]\n",
    "    \n",
    "  sub2_X = X[ret2, :]\n",
    "  sub2_y = y[ret2]\n",
    "  sub2_sample_weights = sample_weights[ret2]\n",
    "\n",
    "  return sub_X, sub_y, sub_sample_weights, sub2_X, sub2_y, sub2_sample_weights"
   ]
  },
  {
   "cell_type": "markdown",
   "metadata": {
    "id": "6EMkU0OTPGJ5"
   },
   "source": [
    "The `ce_purification` function below calculates the information gained in cross entropy from a given split."
   ]
  },
  {
   "cell_type": "code",
   "execution_count": 56,
   "metadata": {
    "executionInfo": {
     "elapsed": 12513,
     "status": "ok",
     "timestamp": 1606391596562,
     "user": {
      "displayName": "Felix Laumann",
      "photoUrl": "https://lh3.googleusercontent.com/a-/AOh14GhmStpe6E-gLWEG78qMXTCOTw1W_IBUPBbFJXZ7pw=s64",
      "userId": "13817614696536163905"
     },
     "user_tz": 0
    },
    "id": "FE1DqOsmHsUr"
   },
   "outputs": [],
   "source": [
    "# EDIT THIS FUNCTION\n",
    "\n",
    "def ce_purification(X, y, column, value, sample_weights=None):\n",
    "  \"\"\"\n",
    "  Calculate the resulted gini impurity given a vector of features.\n",
    "  Arguments:\n",
    "      X: training features, of shape (N, D).\n",
    "      y: vector of training labels, of shape (N,).\n",
    "      column: the column of the feature for calculating. 0 <= column < D\n",
    "      sample_weights: weights for each samples, of shape (N,).\n",
    "  Returns:\n",
    "      (float): the resulted gini impurity after splitting by this feature.\n",
    "  \"\"\"\n",
    "  if sample_weights is None:\n",
    "      sample_weights = np.ones(y.shape[0]) / y.shape[0]\n",
    "  \n",
    "  new_impurity = 0\n",
    "  old_cost = cross_entropy(y, sample_weights)\n",
    "  \n",
    "  unique_vals = np.unique(X[:, column])\n",
    "  \n",
    "  #splits the data\n",
    "  sub_X, sub_y, sub_sample_weights, sub2_X, sub2_y, sub2_sample_weights = split_dataset(X, y, column, value, sample_weights) ## <-- SOLUTION\n",
    "  \n",
    "  # calculate the weights for each of the two subsets from the split\n",
    "  prob = np.sum(sub_sample_weights) / float(np.sum(sample_weights))\n",
    "  prob2 = np.sum(sub2_sample_weights) / float(np.sum(sample_weights))\n",
    "    \n",
    "  # calculate the the new weighted cross entropy\n",
    "  new_cost = prob * cross_entropy(sub_y, sub_sample_weights) + prob2 * cross_entropy(sub2_y, sub2_sample_weights)\n",
    "\n",
    "  \n",
    "  new_impurity = old_cost - new_cost # information gain\n",
    "\n",
    "  return new_impurity"
   ]
  },
  {
   "cell_type": "markdown",
   "metadata": {
    "id": "rVkI3wBVQ12B"
   },
   "source": [
    "The `choose_best_feature` function calculates the information gained from each possible split then returns the split that maximises the information gained."
   ]
  },
  {
   "cell_type": "code",
   "execution_count": 57,
   "metadata": {
    "executionInfo": {
     "elapsed": 12510,
     "status": "ok",
     "timestamp": 1606391596564,
     "user": {
      "displayName": "Felix Laumann",
      "photoUrl": "https://lh3.googleusercontent.com/a-/AOh14GhmStpe6E-gLWEG78qMXTCOTw1W_IBUPBbFJXZ7pw=s64",
      "userId": "13817614696536163905"
     },
     "user_tz": 0
    },
    "id": "FrUdNu3FEZUv"
   },
   "outputs": [],
   "source": [
    "## EDIT THIS FUNCTION\n",
    "def choose_best_feature(X, y, sample_weights=None):\n",
    "  \"\"\"\n",
    "  Choose the best feature to split according to criterion.\n",
    "  Args:\n",
    "      X: training features, of shape (N, D).\n",
    "      y: vector of training labels, of shape (N,).\n",
    "      sample_weights: weights for each samples, of shape (N,).\n",
    "  Returns:\n",
    "      (int): the column for the best feature\n",
    "  \"\"\"\n",
    "  if sample_weights is None:\n",
    "      sample_weights = np.ones(y.shape[0]) / y.shape[0]\n",
    "\n",
    "  best_feature_idx = 0\n",
    "  best_value= 0.3\n",
    "  n_features = X.shape[1]    \n",
    "\n",
    "  \n",
    "  best_gain_cost = 0.0\n",
    " \n",
    "    \n",
    "  # choosing best feature and best value\n",
    "  for i in range(n_features):\n",
    "    unique_vals = np.unique(X[:, i])[1: len(X[:, i]) - 1]\n",
    "    \n",
    "    for value in unique_vals:\n",
    "      info_gain_cost = ce_purification(X, y, i, value, sample_weights)\n",
    "               \n",
    "      if info_gain_cost > best_gain_cost:\n",
    "          best_gain_cost = info_gain_cost\n",
    "          best_feature_idx = i                \n",
    "          best_value = value\n",
    "  \n",
    "  return best_feature_idx, best_value"
   ]
  },
  {
   "cell_type": "markdown",
   "metadata": {
    "id": "trLa8CV7SF2I"
   },
   "source": [
    "The `majority vote` function determines the majority label of a given array. This "
   ]
  },
  {
   "cell_type": "code",
   "execution_count": 58,
   "metadata": {
    "executionInfo": {
     "elapsed": 12507,
     "status": "ok",
     "timestamp": 1606391596565,
     "user": {
      "displayName": "Felix Laumann",
      "photoUrl": "https://lh3.googleusercontent.com/a-/AOh14GhmStpe6E-gLWEG78qMXTCOTw1W_IBUPBbFJXZ7pw=s64",
      "userId": "13817614696536163905"
     },
     "user_tz": 0
    },
    "id": "F32t-yHzG864"
   },
   "outputs": [],
   "source": [
    "def majority_vote(y, sample_weights=None):\n",
    "  \"\"\"\n",
    "  Return the label which appears the most in y.\n",
    "  Args:\n",
    "      y: vector of training labels, of shape (N,).\n",
    "      sample_weights: weights for each samples, of shape (N,).\n",
    "  Returns:\n",
    "      (int): the majority label\n",
    "  \"\"\"\n",
    "  if sample_weights is None:\n",
    "      sample_weights = np.ones(y.shape[0]) / y.shape[0]\n",
    "  \n",
    "  majority_label = y[0]\n",
    "\n",
    "  dict_num = {}\n",
    "  # a dictionary of the labels and the population of each label\n",
    "  for i in range(y.shape[0]):\n",
    "      if y[i] not in dict_num.keys():\n",
    "          dict_num[y[i]] = sample_weights[i]\n",
    "      else:\n",
    "          dict_num[y[i]] += sample_weights[i]\n",
    "  \n",
    "  majority_label = max(dict_num, key=dict_num.get)\n",
    "  \n",
    "  return majority_label"
   ]
  },
  {
   "cell_type": "markdown",
   "metadata": {
    "id": "nHihzl6CS9X0"
   },
   "source": [
    "The `build_tree` and `train` functions build a tree by choosing the best feature and value."
   ]
  },
  {
   "cell_type": "code",
   "execution_count": 59,
   "metadata": {
    "executionInfo": {
     "elapsed": 12503,
     "status": "ok",
     "timestamp": 1606391596566,
     "user": {
      "displayName": "Felix Laumann",
      "photoUrl": "https://lh3.googleusercontent.com/a-/AOh14GhmStpe6E-gLWEG78qMXTCOTw1W_IBUPBbFJXZ7pw=s64",
      "userId": "13817614696536163905"
     },
     "user_tz": 0
    },
    "id": "fxsU-BWeEZRu"
   },
   "outputs": [],
   "source": [
    "# EDIT THIS FUNCTION\n",
    "def build_tree(X, y, feature_names, depth, sample_weights=None, max_depth=7, min_samples_leaf=2, max_num_des = 7, seed = 1):\n",
    "  \"\"\"Build the decision tree according to the data.\n",
    "  Args:\n",
    "      X: (np.array) training features, of shape (N, D).\n",
    "      y: (np.array) vector of training labels, of shape (N,).\n",
    "      feature_names (list): record the name of features in X in the original dataset.\n",
    "      depth (int): current depth for this node.\n",
    "      sample_weights: weights for each samples, of shape (N,).\n",
    "  Returns:\n",
    "      (dict): a dict denoting the decision tree. \n",
    "  \"\"\"\n",
    "  mytree = dict()\n",
    "\n",
    "  # include a clause for the cases where (i) no feature, (ii) all lables are the same, (iii) depth exceed, or (iv) X is too small\n",
    "  if len(X) == 0:\n",
    "      return 1\n",
    "  elif len(feature_names)==0 or len(np.unique(y))==1 or depth>=max_depth or len(X)<=min_samples_leaf: \n",
    "      return majority_vote(y, sample_weights)\n",
    "  \n",
    "  \n",
    "  else:\n",
    "    random.seed(seed)\n",
    "    # this generates the descriptors to choose from at each split\n",
    "    columns = list(random.sample(range(X.shape[1]), max_num_des))\n",
    "    columns.sort()\n",
    "    \n",
    "    X_reduced = X[:,columns]\n",
    "    \n",
    "    best_feature_idx, best_value = choose_best_feature(X_reduced, y, sample_weights)  ## <-- SOLUTION\n",
    "    \n",
    "    best_feature_name = feature_names[best_feature_idx]\n",
    "    feature_names = feature_names[:]\n",
    "    \n",
    "\n",
    "    mytree = {best_feature_name:{}}\n",
    "    unique_vals = np.unique(X[:, best_feature_idx])\n",
    "\n",
    "    #adding the subgroups into the dictionary.\n",
    "    sub_X, sub_y, sub_sample_weights, sub2_X, sub2_y, sub2_sample_weights = split_dataset(X, y, best_feature_idx, \n",
    "                                                                                          best_value, sample_weights)  ## <-- SOLUTION\n",
    "    mytree[best_feature_name][best_value] = build_tree(sub_X, sub_y, feature_names, depth+1, \n",
    "                                                       sub_sample_weights, max_depth = max_depth, max_num_des = max_num_des,seed = seed +1)  ## <-- SOLUTION (hint: use depth+1 as the depth)\n",
    "    mytree[best_feature_name]['no'] = build_tree(sub2_X, sub2_y, feature_names, depth+1, \n",
    "                                                 sub2_sample_weights, max_depth = max_depth, max_num_des = max_num_des, seed = seed +1)\n",
    "\n",
    "\n",
    "    return mytree"
   ]
  },
  {
   "cell_type": "code",
   "execution_count": 60,
   "metadata": {
    "executionInfo": {
     "elapsed": 12501,
     "status": "ok",
     "timestamp": 1606391596567,
     "user": {
      "displayName": "Felix Laumann",
      "photoUrl": "https://lh3.googleusercontent.com/a-/AOh14GhmStpe6E-gLWEG78qMXTCOTw1W_IBUPBbFJXZ7pw=s64",
      "userId": "13817614696536163905"
     },
     "user_tz": 0
    },
    "id": "VwqMWBa3EZOW"
   },
   "outputs": [],
   "source": [
    "def train(X, y, sample_weights=None, max_depth =7, max_num_des = 11):\n",
    "  \"\"\"\n",
    "  Build the decision tree according to the training data.\n",
    "  Args:\n",
    "      X: (pd.Dataframe) training features, of shape (N, D). Each X[i] is a training sample.\n",
    "      y: (pd.Series) vector of training labels, of shape (N,). y[i] is the label for X[i], and each y[i] is\n",
    "      an integer in the range 0 <= y[i] <= C. Here C = 1.\n",
    "      sample_weights: weights for each samples, of shape (N,).\n",
    "  \"\"\"\n",
    "  if sample_weights is None:\n",
    "      # if the sample weights is not provided, we assume the samples have uniform weights\n",
    "      sample_weights = np.ones(X.shape[0]) / X.shape[0]\n",
    "  else:\n",
    "      sample_weights = np.array(sample_weights) / np.sum(sample_weights)\n",
    "\n",
    "  feature_names = X.columns.tolist()\n",
    "  \n",
    "  X = np.array(X)\n",
    "  y = np.array(y)\n",
    "  tree = build_tree(X, y, feature_names, depth=1, sample_weights=sample_weights, max_depth = max_depth, max_num_des = max_num_des)\n",
    "  return tree"
   ]
  },
  {
   "cell_type": "markdown",
   "metadata": {
    "id": "bAE19BbTXYJb"
   },
   "source": [
    "After training a decision tree, the `classify` and `predict` functions are used to make prediction from a given data point"
   ]
  },
  {
   "cell_type": "code",
   "execution_count": 61,
   "metadata": {
    "executionInfo": {
     "elapsed": 12498,
     "status": "ok",
     "timestamp": 1606391596568,
     "user": {
      "displayName": "Felix Laumann",
      "photoUrl": "https://lh3.googleusercontent.com/a-/AOh14GhmStpe6E-gLWEG78qMXTCOTw1W_IBUPBbFJXZ7pw=s64",
      "userId": "13817614696536163905"
     },
     "user_tz": 0
    },
    "id": "QIJYH7hNWOd-"
   },
   "outputs": [],
   "source": [
    "def classify(tree, x):\n",
    "  \"\"\"\n",
    "  Classify a single sample with the fitted decision tree.\n",
    "  Args:\n",
    "      x: ((pd.Dataframe) a single sample features, of shape (D,).\n",
    "  Returns:\n",
    "      (int): predicted testing sample label.\n",
    "  \"\"\"\n",
    "  \n",
    "  feature_name = list(tree.keys())[0] # first element\n",
    "  second_dict = tree[feature_name]            \n",
    "  key = x.loc[feature_name]\n",
    "\n",
    "  # This brings the data point to the right region of the tree by following the splits.\n",
    "  if key <= list(second_dict.keys())[0]:\n",
    "    key = list(second_dict.keys())[0]\n",
    "  else:\n",
    "    key = 'no'\n",
    "      \n",
    "  value_of_key = second_dict[key]\n",
    "  if isinstance(value_of_key, dict):\n",
    "      label = classify(value_of_key, x)\n",
    "  else:\n",
    "      label=value_of_key\n",
    "  return label"
   ]
  },
  {
   "cell_type": "code",
   "execution_count": 62,
   "metadata": {
    "executionInfo": {
     "elapsed": 12496,
     "status": "ok",
     "timestamp": 1606391596569,
     "user": {
      "displayName": "Felix Laumann",
      "photoUrl": "https://lh3.googleusercontent.com/a-/AOh14GhmStpe6E-gLWEG78qMXTCOTw1W_IBUPBbFJXZ7pw=s64",
      "userId": "13817614696536163905"
     },
     "user_tz": 0
    },
    "id": "D_WNC05qWOYG"
   },
   "outputs": [],
   "source": [
    "def predict(X):\n",
    "  \"\"\"\n",
    "  Predict classification results for X.\n",
    "  Args:\n",
    "      X: (pd.Dataframe) testing sample features, of shape (N, D).\n",
    "  Returns:\n",
    "      (np.array): predicted testing sample labels, of shape (N,).\n",
    "  \"\"\"\n",
    "  if len(X.shape)==1:\n",
    "      return classify(tree, X)\n",
    "  else:\n",
    "      results=[]\n",
    "      for i in range(X.shape[0]):\n",
    "          results.append(classify(tree, X.iloc[i, :]))\n",
    "      return np.array(results)"
   ]
  },
  {
   "cell_type": "markdown",
   "metadata": {},
   "source": [
    "Now we need to build a forest from the trees"
   ]
  },
  {
   "cell_type": "code",
   "execution_count": 63,
   "metadata": {},
   "outputs": [],
   "source": [
    "def random_forest(X_test, X_train, Y_train, num_trees = 10, depth_of_tree = 10, max_num_des =10):\n",
    "    '''\n",
    "    Arguments:\n",
    "    X_test: numpy array, the test data\n",
    "    X_train: numpy array, the training data\n",
    "    Y_train: numpy array, the test labels\n",
    "    num_trees: int, number of trees\n",
    "    depth_of_tree: int, depth of the trees\n",
    "    max_num_des: int, maximum number of descriptors to choose from at each split\n",
    "    \n",
    "    Returns:\n",
    "    results: numpy array, the predictions fom the test data.\n",
    "    '''\n",
    "    \n",
    "    np.random.seed(18)\n",
    "    #bagging\n",
    "    # generate a matrix with random numbers where each row has the same length as the number of training data point.\n",
    "    # each row represents the index of the training data used.\n",
    "    rand_matrix = np.random.randint(0,len(X_train), (num_trees, len(X_train)))\n",
    "    bag_X2_train_arr = np.array([[X_train[i] for i in row]  for row in rand_matrix])\n",
    "    bag_Y2_train_arr = np.array([[Y_train[i] for i in row]  for row in rand_matrix])\n",
    "    \n",
    "    vote_matrix = [] \n",
    "    for i in range(num_trees):\n",
    "        df_bag_X2_train_arr = pd.DataFrame(bag_X2_train_arr[i])\n",
    "        df_bag_Y2_train_arr = pd.Series(bag_Y2_train_arr[i])\n",
    "        df_X_test = pd.DataFrame(X_test)\n",
    "        tree = train(df_bag_X2_train_arr, df_bag_Y2_train_arr, max_depth = depth_of_tree, max_num_des = max_num_des)\n",
    "        vote_matrix.append(predict(df_X_test))\n",
    "    # the vote matrix now contains the predicted labels from each tree\n",
    "    vote_matrix = np.array(vote_matrix)  \n",
    "    # This gives the average votes per tree from the forest.\n",
    "    average_votes = sum(vote_matrix)/len(bag_X2_train_arr)\n",
    "    results = np.array([1.0 if vote >= 0.5 else 0.0 for vote in average_votes])\n",
    "    return results"
   ]
  },
  {
   "cell_type": "code",
   "execution_count": 64,
   "metadata": {},
   "outputs": [],
   "source": [
    "def accuracy(result, true_Y):\n",
    "    '''\n",
    "    Arguments:\n",
    "    result: numpy array, the predictions from a data set.\n",
    "    true_y: numpy array, the true label of the data set\n",
    "    \n",
    "    Returns:\n",
    "    accuracy: numpy array, the accuracy calculated from the predictions and the true labels.\n",
    "    '''\n",
    "    accuracy = 0 \n",
    "    for i in range(len(true_Y)):\n",
    "        if true_Y[i] == result[i]:\n",
    "            accuracy += 1/len(true_Y)\n",
    "    return accuracy"
   ]
  },
  {
   "cell_type": "markdown",
   "metadata": {},
   "source": [
    "Now we need to optimise the hyperparameter by 5-fold cross validation. However, since building a random forest is computationally expensive, the depth of tree and maximum number of descriptors were cross-validated using only one tree."
   ]
  },
  {
   "cell_type": "markdown",
   "metadata": {},
   "source": [
    "Please note the cross validations below will take some time to run."
   ]
  },
  {
   "cell_type": "code",
   "execution_count": 65,
   "metadata": {},
   "outputs": [],
   "source": [
    "# splitting the training data into 5 folds.\n",
    "X_fold_val_rf, Y_fold_val_rf, X_fold_train_rf, Y_fold_train_rf = list(T_fold_split(X2_train, Y2_train))"
   ]
  },
  {
   "cell_type": "code",
   "execution_count": 66,
   "metadata": {},
   "outputs": [],
   "source": [
    "depth_list = range(2,10)\n",
    "acc_depth_list = []\n",
    "for i in depth_list:\n",
    "    acc_mean_fold = 0\n",
    "    for fold in range(5):\n",
    "        df_X_fold_val_rf = pd.DataFrame(X_fold_val_rf[fold])\n",
    "        df_Y_fold_val_rf = pd.Series(Y_fold_val_rf[fold])\n",
    "        df_X_fold_train_rf = pd.DataFrame(X_fold_train_rf[fold])\n",
    "        df_Y_fold_train_rf = pd.Series(Y_fold_train_rf[fold])\n",
    "        \n",
    "        tree = train(df_X_fold_train_rf, df_Y_fold_train_rf, max_depth = i)\n",
    "        acc_depth_fold = accuracy(predict(df_X_fold_val_rf), df_Y_fold_val_rf)\n",
    "        \n",
    "        acc_mean_fold += acc_depth_fold/5\n",
    "    \n",
    "    acc_depth_list.append(acc_mean_fold)"
   ]
  },
  {
   "cell_type": "code",
   "execution_count": 67,
   "metadata": {},
   "outputs": [
    {
     "data": {
      "text/plain": [
       "[<matplotlib.lines.Line2D at 0x1a244872b0>]"
      ]
     },
     "execution_count": 67,
     "metadata": {},
     "output_type": "execute_result"
    },
    {
     "data": {
      "image/png": "[encoded data removed]",
      "text/plain": [
       "<Figure size 576x396 with 1 Axes>"
      ]
     },
     "metadata": {},
     "output_type": "display_data"
    }
   ],
   "source": [
    "plt.xlabel('depth')\n",
    "plt.ylabel('accuracy')\n",
    "plt.plot(depth_list, acc_depth_list)"
   ]
  },
  {
   "cell_type": "code",
   "execution_count": 68,
   "metadata": {},
   "outputs": [],
   "source": [
    "des_list = range(2,10)\n",
    "acc_des_list = []\n",
    "for i in des_list:\n",
    "    acc_mean_fold_des = 0\n",
    "    for fold in range(5):\n",
    "        df_X_fold_val_rf = pd.DataFrame(X_fold_val_rf[fold])\n",
    "        df_Y_fold_val_rf = pd.Series(Y_fold_val_rf[fold])\n",
    "        df_X_fold_train_rf = pd.DataFrame(X_fold_train_rf[fold])\n",
    "        df_Y_fold_train_rf = pd.Series(Y_fold_train_rf[fold])\n",
    "        \n",
    "        tree = train(df_X_fold_train_rf, df_Y_fold_train_rf, max_depth = 5, max_num_des = i)\n",
    "        #print(tree)\n",
    "        acc_depth_fold = accuracy(predict(df_X_fold_val_rf), df_Y_fold_val_rf)\n",
    "        \n",
    "        acc_mean_fold_des += acc_depth_fold/5\n",
    "    \n",
    "    acc_des_list.append(acc_mean_fold_des)"
   ]
  },
  {
   "cell_type": "code",
   "execution_count": 69,
   "metadata": {},
   "outputs": [
    {
     "data": {
      "text/plain": [
       "[<matplotlib.lines.Line2D at 0x1a244ef2b0>]"
      ]
     },
     "execution_count": 69,
     "metadata": {},
     "output_type": "execute_result"
    },
    {
     "data": {
      "image/png": "[encoded data removed]",
      "text/plain": [
       "<Figure size 576x396 with 1 Axes>"
      ]
     },
     "metadata": {},
     "output_type": "display_data"
    }
   ],
   "source": [
    "plt.xlabel('maximum number of descriptors')\n",
    "plt.ylabel('accuracy')\n",
    "plt.plot(des_list, acc_des_list)"
   ]
  },
  {
   "cell_type": "code",
   "execution_count": 71,
   "metadata": {},
   "outputs": [],
   "source": [
    "numbers = range(3,16)\n",
    "acc_lst_num_trees = []\n",
    "for num in numbers:\n",
    "    #print(num)\n",
    "    mean_acc = 0\n",
    "    for fold in range(5):\n",
    "        results = random_forest(X_fold_val_rf[fold], X_fold_train_rf[fold], Y_fold_train_rf[fold], \n",
    "                                num_trees = num, depth_of_tree =10 , max_num_des =7)\n",
    "        acc = accuracy(results, Y_fold_val_rf[fold])\n",
    "        #print(acc)\n",
    "        mean_acc +=acc/5\n",
    "        \n",
    "    acc_lst_num_trees.append(mean_acc)\n",
    "\n",
    "numbers = np.array(numbers)"
   ]
  },
  {
   "cell_type": "code",
   "execution_count": 72,
   "metadata": {},
   "outputs": [
    {
     "data": {
      "text/plain": [
       "[<matplotlib.lines.Line2D at 0x1a245e81d0>]"
      ]
     },
     "execution_count": 72,
     "metadata": {},
     "output_type": "execute_result"
    },
    {
     "data": {
      "image/png": "[encoded data removed]",
      "text/plain": [
       "<Figure size 576x396 with 1 Axes>"
      ]
     },
     "metadata": {},
     "output_type": "display_data"
    }
   ],
   "source": [
    "plt.xlabel('number of trees')\n",
    "plt.ylabel('accuracy')\n",
    "plt.plot(numbers,acc_lst_num_trees)"
   ]
  },
  {
   "cell_type": "markdown",
   "metadata": {},
   "source": [
    "From the above graphs, the optimal depth and number of trees were determined to be 4 and 4 respectively from the 5-fold cross-validation. This result is considered to be reasonable. For instance, for number of descriptors, it was expected to be around 3 and 4 since the usual optimal number of descriptors is around $\\sqrt{p}$, where p is the total number of predictors (12 in this case). However, unexpectedly the number of trees do not affect the accuracy and this is believed to be a code error in the cross validation which unfortunately was not found. For the later analyses, the optimal number of trees was assumed to be 10. \n",
    "\n",
    "Therefore in conclusion: <br>\n",
    "optimal number of decision trees = 10<br>\n",
    "optimal depth of trees = 4 <br>\n",
    "optimal maximum number of descriptos chosen at each split = 7\n",
    "\n",
    "However, Please note that since random choices of descriptors are chosenat each split therefore reproduced results may be different."
   ]
  },
  {
   "cell_type": "markdown",
   "metadata": {},
   "source": [
    "# 2.2.2\n",
    "\n",
    "Now having obtained this optimal model, we can check the performance of this model with the train and test data. Here the confusion matrix is used instead of accuracy."
   ]
  },
  {
   "cell_type": "code",
   "execution_count": 73,
   "metadata": {},
   "outputs": [],
   "source": [
    "def confusion_matrix(pred, true_y):\n",
    "    tp = 0\n",
    "    fp = 0\n",
    "    fn = 0\n",
    "    tn = 0\n",
    "    n = len(pred)\n",
    "    #print(n)\n",
    "    for i in range(n):\n",
    "        #print(i)\n",
    "        if pred[i] == 1.0 and true_y[i] == 1.0:\n",
    "            #print(i)\n",
    "            tp += 1\n",
    "        elif pred[i] == 0.0 and true_y[i] == 0.0:\n",
    "            tn += 1\n",
    "        elif pred[i] == 1.0 and true_y[i] == 0.0:\n",
    "            fp += 1\n",
    "        elif pred[i] == 0.0 and true_y[i] == 1.0:\n",
    "            fn += 1\n",
    "    con_mat = np.array([[tp, fp],\n",
    "                        [fn, tn]])\n",
    "    df_con_mat = pd.DataFrame(con_mat, columns = ['true 1', 'true 0'],\n",
    "                         index = ['predicted 1', 'predicted 0'])\n",
    "    return df_con_mat"
   ]
  },
  {
   "cell_type": "code",
   "execution_count": 98,
   "metadata": {},
   "outputs": [
    {
     "data": {
      "text/html": [
       "<style  type=\"text/css\" >\n",
       "</style><table id=\"T_8611f564_79de_11eb_a80b_9a000f34cf80\" ><caption>Training data</caption><thead>    <tr>        <th class=\"blank level0\" ></th>        <th class=\"col_heading level0 col0\" >true 1</th>        <th class=\"col_heading level0 col1\" >true 0</th>    </tr></thead><tbody>\n",
       "                <tr>\n",
       "                        <th id=\"T_8611f564_79de_11eb_a80b_9a000f34cf80level0_row0\" class=\"row_heading level0 row0\" >predicted 1</th>\n",
       "                        <td id=\"T_8611f564_79de_11eb_a80b_9a000f34cf80row0_col0\" class=\"data row0 col0\" >545</td>\n",
       "                        <td id=\"T_8611f564_79de_11eb_a80b_9a000f34cf80row0_col1\" class=\"data row0 col1\" >0</td>\n",
       "            </tr>\n",
       "            <tr>\n",
       "                        <th id=\"T_8611f564_79de_11eb_a80b_9a000f34cf80level0_row1\" class=\"row_heading level0 row1\" >predicted 0</th>\n",
       "                        <td id=\"T_8611f564_79de_11eb_a80b_9a000f34cf80row1_col0\" class=\"data row1 col0\" >18</td>\n",
       "                        <td id=\"T_8611f564_79de_11eb_a80b_9a000f34cf80row1_col1\" class=\"data row1 col1\" >0</td>\n",
       "            </tr>\n",
       "    </tbody></table>"
      ],
      "text/plain": [
       "<pandas.io.formats.style.Styler at 0x1a24fee748>"
      ]
     },
     "execution_count": 98,
     "metadata": {},
     "output_type": "execute_result"
    }
   ],
   "source": [
    "y_pred_train_rf = random_forest(X2_train, X2_train, Y2_train, num_trees = 10, depth_of_tree = 4, max_num_des =7)\n",
    "\n",
    "df_con_mat_train = confusion_matrix(y_pred_train_rf, Y2_train)\n",
    "df_con_mat_train.style.set_caption(\"Training data\")"
   ]
  },
  {
   "cell_type": "code",
   "execution_count": 99,
   "metadata": {},
   "outputs": [
    {
     "data": {
      "text/html": [
       "<style  type=\"text/css\" >\n",
       "</style><table id=\"T_98e3f5d4_79de_11eb_a80b_9a000f34cf80\" ><caption>Test data</caption><thead>    <tr>        <th class=\"blank level0\" ></th>        <th class=\"col_heading level0 col0\" >true 1</th>        <th class=\"col_heading level0 col1\" >true 0</th>    </tr></thead><tbody>\n",
       "                <tr>\n",
       "                        <th id=\"T_98e3f5d4_79de_11eb_a80b_9a000f34cf80level0_row0\" class=\"row_heading level0 row0\" >predicted 1</th>\n",
       "                        <td id=\"T_98e3f5d4_79de_11eb_a80b_9a000f34cf80row0_col0\" class=\"data row0 col0\" >133</td>\n",
       "                        <td id=\"T_98e3f5d4_79de_11eb_a80b_9a000f34cf80row0_col1\" class=\"data row0 col1\" >0</td>\n",
       "            </tr>\n",
       "            <tr>\n",
       "                        <th id=\"T_98e3f5d4_79de_11eb_a80b_9a000f34cf80level0_row1\" class=\"row_heading level0 row1\" >predicted 0</th>\n",
       "                        <td id=\"T_98e3f5d4_79de_11eb_a80b_9a000f34cf80row1_col0\" class=\"data row1 col0\" >4</td>\n",
       "                        <td id=\"T_98e3f5d4_79de_11eb_a80b_9a000f34cf80row1_col1\" class=\"data row1 col1\" >0</td>\n",
       "            </tr>\n",
       "    </tbody></table>"
      ],
      "text/plain": [
       "<pandas.io.formats.style.Styler at 0x1a24e9f240>"
      ]
     },
     "execution_count": 99,
     "metadata": {},
     "output_type": "execute_result"
    }
   ],
   "source": [
    "y_pred_test_rf = random_forest(X2_test, X2_train, Y2_train, num_trees = 10, depth_of_tree = 4, max_num_des =7)\n",
    "\n",
    "df_con_mat_test = confusion_matrix(y_pred_test_rf, Y2_test)\n",
    "df_con_mat_test.style.set_caption(\"Test data\")"
   ]
  },
  {
   "cell_type": "markdown",
   "metadata": {},
   "source": [
    "However, as seen from the confusion matrix, the model is predicting mainly postive (1). This in fact suggests although it has a good precision (a high true positive rate), and that the model still needs adjustment and further improvement. This is thought that since the majority of the training data is positive, the tree might have overfitted this data. However, this may also exist an error in the code."
   ]
  },
  {
   "cell_type": "markdown",
   "metadata": {},
   "source": [
    "# 2.3 Support Vector Machine"
   ]
  },
  {
   "cell_type": "markdown",
   "metadata": {},
   "source": [
    "Support vector machine is another powerful classification algorithm. It works by finding a optimal hyperplane such that on one side of the plane contains a majority of one label (defined to be 1) and the the other side contains a majority of the other label (defined to be -1). In the limited time, only the hard margine support vector machine was implemented."
   ]
  },
  {
   "cell_type": "markdown",
   "metadata": {},
   "source": [
    "For linear hard margin SVM, the optimal hyperplane is one such that the margin is maximised while satisfying the constraint such that the two categories are on the right sides of the hyperplane, which can be expressed as an optimisation problem below:\n",
    "\n",
    "\\begin{equation}\n",
    "\\min _{\\mathbf{w}} \\frac{1}{2}\\|\\mathbf{w}\\|^{2} \\quad \n",
    "\\end{equation}\n",
    "\\begin{equation}\n",
    "\\text { subject to } \\quad y^{(i)}\\left(\\mathbf{x}^{(i)} \\cdot \\mathbf{w}+b\\right) \\geq 1, \\quad i=1, \\ldots, N\n",
    "\\end{equation}\n",
    "\n"
   ]
  },
  {
   "cell_type": "code",
   "execution_count": 76,
   "metadata": {},
   "outputs": [],
   "source": [
    "#This maps the label 0 to 1\n",
    "Y2_train_SVM = Y2_train\n",
    "Y2_train_SVM[Y2_train_SVM == 0] = -1\n",
    "\n",
    "Y2_test_SVM = Y2_test\n",
    "Y2_test_SVM[Y2_test_SVM == 0] = -1"
   ]
  },
  {
   "cell_type": "code",
   "execution_count": 77,
   "metadata": {},
   "outputs": [],
   "source": [
    "# Standardising the data\n",
    "mu2 = np.mean(X2_train, 0)\n",
    "std2 = np.std(X2_train, 0)\n",
    "\n",
    "X2_train_std = standardise(X2_train, mu2, std2)\n",
    "X2_test_std = standardise(X2_test, mu2, std2)"
   ]
  },
  {
   "cell_type": "code",
   "execution_count": 78,
   "metadata": {},
   "outputs": [],
   "source": [
    "# This adds a column of ones to be its first column.\n",
    "X2_train_SVM = np.concatenate((np.ones((len(X2_train_std), 1)), X2_train_std), axis =1)\n",
    "X2_test_SVM = np.concatenate((np.ones((len(X2_test_std), 1)), X2_test_std), axis =1)"
   ]
  },
  {
   "cell_type": "code",
   "execution_count": 79,
   "metadata": {},
   "outputs": [],
   "source": [
    "# This defines the radial basis function kernel.\n",
    "def RBF(x, y, sigma =1 ):\n",
    "    mod = distance(x,y)\n",
    "    return np.exp(-(mod**2)/sigma)"
   ]
  },
  {
   "cell_type": "markdown",
   "metadata": {
    "id": "jMo_v3TGCJBD"
   },
   "source": [
    "## Linear SVM\n",
    "The optimsation problem stated above can be solved using quadratic programming but this requires significant computational power. However, this can be solved using the loss function of the soft margin SVM:\n",
    "$$\n",
    "\\mathcal L (\\boldsymbol w) = \\frac{1}{2} \\| \\boldsymbol w \\|^2 + \\frac{\\lambda}{n} \\sum_{i=1}^n \\max \\bigg( 0, 1-y_i (\\boldsymbol w \\cdot x_i + b) \\bigg) \\, .\n",
    "$$\n",
    "where $\\boldsymbol w$ is the vector of weights, $\\lambda$ the regularisation parameter, and $b$ the intercept which is included in our X as an additional column of $1$'s.\n",
    "\n",
    "The regularisation parameter can be used to adjust the 'hardness' of the margin. To adapt this to be a hard margin SVM, we can then optimise this loss function by having the regularisation parameter being set a very large value, eg. $10^{6}$."
   ]
  },
  {
   "cell_type": "markdown",
   "metadata": {},
   "source": [
    "Stochastic gradient descent is used to minise the loss function and hence the followig two functions were implemented to calculate the cost and its gradient."
   ]
  },
  {
   "cell_type": "code",
   "execution_count": 80,
   "metadata": {
    "executionInfo": {
     "elapsed": 553,
     "status": "ok",
     "timestamp": 1612548597363,
     "user": {
      "displayName": "Felix Laumann",
      "photoUrl": "https://lh3.googleusercontent.com/a-/AOh14GhmStpe6E-gLWEG78qMXTCOTw1W_IBUPBbFJXZ7pw=s64",
      "userId": "13817614696536163905"
     },
     "user_tz": 0
    },
    "id": "O8NCZ2Wj8D8m"
   },
   "outputs": [],
   "source": [
    "def compute_cost(W, X, y, regul_strength=10):\n",
    "  '''\n",
    "  Arguments:\n",
    "  W: numpy array, vector fo weights\n",
    "  X: numpy array, the training data\n",
    "  y: numpy array, label of the training data (-1 or 1)\n",
    "  regul_strength: float: the regularisation strength which is set to 10 by default.\n",
    "  \n",
    "  Returns:\n",
    "  cost: float, the cost\n",
    "  '''\n",
    "    \n",
    "  n = X.shape[0]\n",
    "  distances = 1 - y * (np.dot(X, W))  \n",
    "  distances[distances < 0] = 0  # equivalent to max(0, distance)\n",
    "  hinge = regul_strength * (np.sum(distances) / n)  \n",
    "\n",
    "  # calculate cost\n",
    "  \n",
    "  cost = 1 / 2 * np.dot(W, W) + hinge\n",
    "  return cost"
   ]
  },
  {
   "cell_type": "code",
   "execution_count": 81,
   "metadata": {
    "executionInfo": {
     "elapsed": 459,
     "status": "ok",
     "timestamp": 1612548598691,
     "user": {
      "displayName": "Felix Laumann",
      "photoUrl": "https://lh3.googleusercontent.com/a-/AOh14GhmStpe6E-gLWEG78qMXTCOTw1W_IBUPBbFJXZ7pw=s64",
      "userId": "13817614696536163905"
     },
     "user_tz": 0
    },
    "id": "yvsu7ukAE79Y"
   },
   "outputs": [],
   "source": [
    "# calculate gradient of cost\n",
    "def calculate_cost_gradient(W, X_batch, y_batch, regul_strength=1e5):\n",
    "  '''\n",
    "  Arguments:\n",
    "  W: numpy array, vector fo weights\n",
    "  X_batch: numpy array, a data point\n",
    "  y_batch: int, label of the training data (-1 or 1)\n",
    "  regul_strength: float: the regularisation strength which is set to 10 by default.\n",
    "  \n",
    "  Returns:\n",
    "  dw: float, the gradient of the cost function\n",
    "  \n",
    "  \n",
    "  \n",
    "  '''\n",
    "  # if only one example is passed\n",
    "  if type(y_batch) == np.float64:\n",
    "      y_batch = np.asarray([y_batch])\n",
    "      X_batch = np.asarray([X_batch])  # gives multidimensional array\n",
    "\n",
    "  distance = 1 - (y_batch * np.dot(X_batch, W))\n",
    "  dw = np.zeros(len(W))\n",
    "\n",
    "  for ind, d in enumerate(distance):\n",
    "      if max(0, d)==0:\n",
    "          di = W\n",
    "      else:\n",
    "          di = W - (regul_strength * y_batch[ind] * X_batch[ind])\n",
    "      dw += di\n",
    "\n",
    "  dw = dw/len(y_batch)  # average\n",
    "  return dw"
   ]
  },
  {
   "cell_type": "markdown",
   "metadata": {
    "id": "5X3_B9V-I0mX"
   },
   "source": [
    "Now, stochastic gradient is implemented for the optimisation using the compute_cost and calculate_cost_gradient functions."
   ]
  },
  {
   "cell_type": "code",
   "execution_count": 82,
   "metadata": {
    "executionInfo": {
     "elapsed": 512,
     "status": "ok",
     "timestamp": 1612550934560,
     "user": {
      "displayName": "Felix Laumann",
      "photoUrl": "https://lh3.googleusercontent.com/a-/AOh14GhmStpe6E-gLWEG78qMXTCOTw1W_IBUPBbFJXZ7pw=s64",
      "userId": "13817614696536163905"
     },
     "user_tz": 0
    },
    "id": "a-S8N9C78D5R"
   },
   "outputs": [],
   "source": [
    "# EDIT THIS FUNCTION\n",
    "def sgd(X, y, max_iterations=2000, stop_criterion=0.01, learning_rate=1e-5, regul_strength=1e5, print_outcome=False):\n",
    "    \n",
    "  '''\n",
    "  Arguments:\n",
    "  X: numpy array, the training data\n",
    "  y: numpy array, the label of the training data (-1 or 1)\n",
    "  stop_criterion: float, determines when to stop the stochastic gradient descent which is set to be 0.01 by default\n",
    "  learning_rate: float, the learning rate of the stochastic gradient descent which is set to be 1e-5 by default\n",
    "  regul_strength: float, the regularisation strength of the cost function. Set to be 1e-5 by default\n",
    "  print_cost: boolean. This deterines whether print the cost. Set to be False by default.\n",
    "  \n",
    "  Returns:\n",
    "  weights: numpy array, the weights after optimising by the stochastic gradient descent.\n",
    "\n",
    "  '''\n",
    "  # initialise zero weights\n",
    "  weights = np.zeros(X.shape[1])\n",
    "  nth = 0\n",
    "  # initialise starting cost as infinity\n",
    "  prev_cost = np.inf\n",
    "  \n",
    "  # stochastic gradient descent\n",
    "  for iteration in range(1, max_iterations):\n",
    "      # shuffle to prevent repeating update cycles\n",
    "      np.random.shuffle([X, y])\n",
    "      for ind, x in enumerate(X):\n",
    "          ascent = calculate_cost_gradient(weights, x, y[ind], regul_strength) \n",
    "          weights = weights - (learning_rate * ascent)\n",
    "\n",
    "      # convergence check on 2^n'th iteration\n",
    "      if iteration==2**nth or iteration==max_iterations-1:\n",
    "          # compute cost\n",
    "          cost = compute_cost(weights, X, y, regul_strength) \n",
    "          if print_outcome:\n",
    "            \n",
    "            print(\"Iteration is: {}, Cost is: {}\".format(iteration, cost))\n",
    "          # stop criterion\n",
    "          if abs(prev_cost - cost) < stop_criterion * prev_cost:\n",
    "              return weights\n",
    "          \n",
    "          prev_cost = cost\n",
    "          nth += 1\n",
    "  \n",
    "  return weights"
   ]
  },
  {
   "cell_type": "markdown",
   "metadata": {
    "id": "XTU9fyVYK8ay"
   },
   "source": [
    "# 2.3.1 \n",
    "# Linear hard margin SVM\n",
    "First we trained the model where I have set the regularisation to be $ 10^{6}$, which increases the hardness of the margin."
   ]
  },
  {
   "cell_type": "code",
   "execution_count": 83,
   "metadata": {
    "colab": {
     "base_uri": "https://localhost:8080/"
    },
    "executionInfo": {
     "elapsed": 15455,
     "status": "ok",
     "timestamp": 1612550952057,
     "user": {
      "displayName": "Felix Laumann",
      "photoUrl": "https://lh3.googleusercontent.com/a-/AOh14GhmStpe6E-gLWEG78qMXTCOTw1W_IBUPBbFJXZ7pw=s64",
      "userId": "13817614696536163905"
     },
     "user_tz": 0
    },
    "id": "2bdsUvtu8D2f",
    "outputId": "9259dce8-0711-4172-f157-7a5cd4ca8569"
   },
   "outputs": [],
   "source": [
    "# train the model\n",
    "W = sgd(X2_train_SVM, Y2_train_SVM, max_iterations=5000, stop_criterion=0.01, learning_rate=1e-5, \n",
    "        regul_strength=1e6, print_outcome=False)\n"
   ]
  },
  {
   "cell_type": "markdown",
   "metadata": {},
   "source": [
    "Defined a score function to determine the accuracy of the model. To make prediction using the model, we use:\n",
    "\\begin{equation}\n",
    "\\left\\{\\begin{array}{ll}\n",
    "x^{\\text {in }} \\cdot \\mathbf{w}+b \\geq 0 & \\text { then } \\hat{y}=+1 \\\\\n",
    "\\mathbf{x}^{\\text {in }} \\cdot \\mathbf{w}+b<0 & \\text { then } \\hat{y}=-1\n",
    "\\end{array}\\right.\n",
    "\\end{equation}\n"
   ]
  },
  {
   "cell_type": "code",
   "execution_count": 84,
   "metadata": {
    "executionInfo": {
     "elapsed": 506,
     "status": "ok",
     "timestamp": 1612548620548,
     "user": {
      "displayName": "Felix Laumann",
      "photoUrl": "https://lh3.googleusercontent.com/a-/AOh14GhmStpe6E-gLWEG78qMXTCOTw1W_IBUPBbFJXZ7pw=s64",
      "userId": "13817614696536163905"
     },
     "user_tz": 0
    },
    "id": "5JahERSXOtJj"
   },
   "outputs": [],
   "source": [
    "## EDIT THIS FUNCTION\n",
    "def score(W, X, y, return_y_pred = False):\n",
    "  '''\n",
    "  Arguments:\n",
    "  W: numpy array, vector fo weights\n",
    "  X: numpy array, the training data\n",
    "  y: numpy array, label of the training data (-1 or 1)\n",
    "  return_y_pred: boolean, this determines whethere to return the predictions.\n",
    "  \n",
    "  Returns:\n",
    "  accuracy: float, the accuracy of the model given a test data.\n",
    "  y_preds: numpy array, the predictions\n",
    "  '''\n",
    "  y_preds = np.array([])\n",
    "  for i in range(X.shape[0]):\n",
    "    y_pred = np.sign(np.dot(X[i], W))\n",
    "    y_preds = np.append(y_preds, y_pred)\n",
    "  #print(y_preds)\n",
    "  if return_y_pred: # comparing with the known predictions\n",
    "      return np.float(sum(y_preds==y)) / float(len(y)), y_preds\n",
    "  else:\n",
    "      return np.float(sum(y_preds==y)) / float(len(y))"
   ]
  },
  {
   "cell_type": "markdown",
   "metadata": {},
   "source": [
    "Now we can evaluate of the performance of the hard margin linear SVM."
   ]
  },
  {
   "cell_type": "code",
   "execution_count": 85,
   "metadata": {
    "colab": {
     "base_uri": "https://localhost:8080/"
    },
    "executionInfo": {
     "elapsed": 485,
     "status": "ok",
     "timestamp": 1612548622968,
     "user": {
      "displayName": "Felix Laumann",
      "photoUrl": "https://lh3.googleusercontent.com/a-/AOh14GhmStpe6E-gLWEG78qMXTCOTw1W_IBUPBbFJXZ7pw=s64",
      "userId": "13817614696536163905"
     },
     "user_tz": 0
    },
    "id": "oZAt83Mq8Dv6",
    "outputId": "27f88db8-e716-40dc-d95c-1d7d5ddcd639",
    "scrolled": true
   },
   "outputs": [
    {
     "name": "stdout",
     "output_type": "stream",
     "text": [
      "Accuracy on train set: 0.60375\n",
      "Accuracy on test set: 0.62\n"
     ]
    }
   ],
   "source": [
    "print(\"Accuracy on train set: {}\".format(score(W, X2_train_SVM, Y2_train_SVM)))\n",
    "print(\"Accuracy on test set: {}\".format(score(W, X2_test_SVM, Y2_test_SVM)))"
   ]
  },
  {
   "cell_type": "markdown",
   "metadata": {},
   "source": [
    "The hard margin linear SVM has an acceptbale accuracy for both the train and test set. However, an imperfect training accuracy also suggests the data cannot be perfectly separated into categories, since this is a hard margin linear SVM."
   ]
  },
  {
   "cell_type": "markdown",
   "metadata": {},
   "source": [
    "# Hard margin kernel SVM\n",
    "Now to improve on the linear SVM, A kernel SVM was implemented. This works by introducing a higher dimensionality, by a kernel function which can be interpretted as transforming a dot product to a higher-dimensional space.\n",
    "The Gaussian radial basis function was used as the kernel function:\n",
    "\n",
    "\\begin{equation}\n",
    "k(\\mathbf{x}, \\mathbf{y})=e^{\\frac{-\\|\\mathbf{x}-\\mathbf{y}\\|^{2}}{\\sigma}}\n",
    "\\end{equation}\n",
    "\n",
    "This kernel canbe interpretted as to have a 'local behaviour' [1] since data points that are far from the the suppor vectors have exponentially less cotribution than the closer points"
   ]
  },
  {
   "cell_type": "markdown",
   "metadata": {},
   "source": [
    "Now define the radial basis function."
   ]
  },
  {
   "cell_type": "code",
   "execution_count": 86,
   "metadata": {},
   "outputs": [],
   "source": [
    "def RBF(x, y, sigma =100):\n",
    "    mod = np.linalg.norm(x-y)\n",
    "    return np.exp(-(mod**2)/sigma)"
   ]
  },
  {
   "cell_type": "markdown",
   "metadata": {},
   "source": [
    "The following functions are similar to the previous ones for the linear hard margin SVM but the dot product has been replaced by a the kernel function. Moreover, instead of including the interception b in the matrix, it is taken out since kernel function is no longer a dot product. The intercept is chosen to be a negative small number because the kernel is always positive and it would require a negative intercept to make reasonable predictions. Moreover, I think using an arbitrary intercept, the value of sigma can be adjusted to give reasonable predictions\n"
   ]
  },
  {
   "cell_type": "code",
   "execution_count": 87,
   "metadata": {
    "executionInfo": {
     "elapsed": 553,
     "status": "ok",
     "timestamp": 1612548597363,
     "user": {
      "displayName": "Felix Laumann",
      "photoUrl": "https://lh3.googleusercontent.com/a-/AOh14GhmStpe6E-gLWEG78qMXTCOTw1W_IBUPBbFJXZ7pw=s64",
      "userId": "13817614696536163905"
     },
     "user_tz": 0
    },
    "id": "O8NCZ2Wj8D8m"
   },
   "outputs": [],
   "source": [
    "def compute_cost_rbf(W, X, y, regul_strength=10, sigma =100, b= -.5):\n",
    "  '''\n",
    "  Arguments:\n",
    "  W: numpy array, vector fo weights\n",
    "  X: numpy array, the training data\n",
    "  y: numpy array, label of the training data (-1 or 1)\n",
    "  regul_strength: float: the regularisation strength which is set to 10 by default.\n",
    "  \n",
    "  Returns:\n",
    "  cost: float, the cost\n",
    "  '''\n",
    "  n = X.shape[0]\n",
    "  distances = 1 - y * (RBF(X, W, sigma) + b)  \n",
    "  distances[distances < 0] = 0  # equivalent to max(0, distance)\n",
    "  hinge = regul_strength * (np.sum(distances) / n)  \n",
    "\n",
    "  # calculate cost\n",
    "  cost = 1 / 2 * np.dot(W, W) + hinge # the dot product was left here since kernel function would just give one\n",
    "  return cost"
   ]
  },
  {
   "cell_type": "markdown",
   "metadata": {
    "id": "fPlQQlNJHgGI"
   },
   "source": [
    "Next, we need the gradients of this cost function."
   ]
  },
  {
   "cell_type": "code",
   "execution_count": 88,
   "metadata": {
    "executionInfo": {
     "elapsed": 459,
     "status": "ok",
     "timestamp": 1612548598691,
     "user": {
      "displayName": "Felix Laumann",
      "photoUrl": "https://lh3.googleusercontent.com/a-/AOh14GhmStpe6E-gLWEG78qMXTCOTw1W_IBUPBbFJXZ7pw=s64",
      "userId": "13817614696536163905"
     },
     "user_tz": 0
    },
    "id": "yvsu7ukAE79Y"
   },
   "outputs": [],
   "source": [
    "# calculate gradient of cost\n",
    "# calculate gradient of cost\n",
    "def calculate_cost_gradient_rbf(W, X_batch, y_batch, regul_strength=1e5, sigma =100, b= -0.5):\n",
    "    \n",
    "  '''\n",
    "  Arguments:\n",
    "  W: numpy array, vector fo weights\n",
    "  X_batch: numpy array, a data point\n",
    "  y_batch: int, label of the training data (-1 or 1)\n",
    "  regul_strength: float: the regularisation strength which is set to 10 by default.\n",
    "  \n",
    "  Returns:\n",
    "  dw: float, the gradient of the cost function\n",
    "  \n",
    "  '''\n",
    "  # if only one example is passed\n",
    "  if type(y_batch) == np.float64:\n",
    "      y_batch = np.asarray([y_batch])\n",
    "      X_batch = np.asarray([X_batch])  # gives multidimensional array\n",
    "\n",
    "  distance = 1 - y_batch * (RBF(X_batch, W, sigma) +b)\n",
    "  dw = np.zeros(len(W))\n",
    "\n",
    "  for ind, d in enumerate(distance):\n",
    "      if max(0, d)==0:\n",
    "          di = W\n",
    "      else:\n",
    "          di = W - (regul_strength * y_batch[ind] * X_batch[ind])\n",
    "      dw += di\n",
    "\n",
    "  dw = dw/len(y_batch)  # average\n",
    "  return dw"
   ]
  },
  {
   "cell_type": "code",
   "execution_count": 89,
   "metadata": {
    "executionInfo": {
     "elapsed": 512,
     "status": "ok",
     "timestamp": 1612550934560,
     "user": {
      "displayName": "Felix Laumann",
      "photoUrl": "https://lh3.googleusercontent.com/a-/AOh14GhmStpe6E-gLWEG78qMXTCOTw1W_IBUPBbFJXZ7pw=s64",
      "userId": "13817614696536163905"
     },
     "user_tz": 0
    },
    "id": "a-S8N9C78D5R"
   },
   "outputs": [],
   "source": [
    "# EDIT THIS FUNCTION\n",
    "def sgd_rbf(X, y, max_iterations=2000, stop_criterion=0.01, learning_rate=1e-5, \n",
    "            regul_strength=1e5, print_outcome=False, sigma = 100, b= -.5):\n",
    "    \n",
    "  '''\n",
    "  Arguments:\n",
    "  X: numpy array, the training data\n",
    "  y: numpy array, the label of the training data (-1 or 1)\n",
    "  stop_criterion: float, determines when to stop the stochastic gradient descent which is set to be 0.01 by default\n",
    "  learning_rate: float, the learning rate of the stochastic gradient descent which is set to be 1e-5 by default\n",
    "  regul_strength: float, the regularisation strength of the cost function. Set to be 1e-5 by default\n",
    "  print_cost: boolean. This deterines whether print the cost. Set to be False by default.\n",
    "  \n",
    "  Returns:\n",
    "  weights: numpy array, the weights after optimising by the stochastic gradient descent.\n",
    "  '''\n",
    "  # initialise zero weights\n",
    "  weights = np.zeros(X.shape[1])\n",
    "  nth = 0\n",
    "  # initialise starting cost as infinity\n",
    "  prev_cost = np.inf\n",
    "  \n",
    "  # stochastic gradient descent\n",
    "  for iteration in range(1, max_iterations):\n",
    "      # shuffle to prevent repeating update cycles\n",
    "      np.random.shuffle([X, y])\n",
    "      for ind, x in enumerate(X):\n",
    "          ascent = calculate_cost_gradient_rbf(weights, x, y[ind], regul_strength, sigma = sigma)\n",
    "          weights = weights - (learning_rate * ascent)\n",
    "\n",
    "      # convergence check on 2^n'th iteration\n",
    "      if iteration==2**nth or iteration==max_iterations-1:\n",
    "          # compute cost\n",
    "          cost = compute_cost_rbf(weights, X, y, regul_strength, sigma = sigma)  \n",
    "          if print_outcome:\n",
    "            print(\"Iteration is: {}, Cost is: {}\".format(iteration, cost))\n",
    "          # stop criterion\n",
    "          if abs(prev_cost - cost) < stop_criterion * prev_cost:\n",
    "              return weights\n",
    "          \n",
    "          prev_cost = cost\n",
    "          nth += 1\n",
    "  \n",
    "  return weights"
   ]
  },
  {
   "cell_type": "code",
   "execution_count": 90,
   "metadata": {},
   "outputs": [],
   "source": [
    "def f_score(y_pred, true_y):\n",
    "    '''This function calculates the f1 score.'''\n",
    "    tp = 0\n",
    "    fp = 0\n",
    "    fn = 0\n",
    "    tn = 0\n",
    "    n = len(true_y)\n",
    "    \n",
    "    for i in range(len(true_y)):\n",
    "        if y_pred[i] == 1.0 and true_y[i] == 1.0:\n",
    "            #print(i)\n",
    "            tp += 1\n",
    "        elif y_pred[i] == -1.0 and true_y[i] == -1.0:\n",
    "            tn += 1\n",
    "        elif y_pred[i] == 1.0 and true_y[i] == -1.0:\n",
    "            fp += 1\n",
    "        elif y_pred[i] == -1.0 and true_y[i] == 1.0:\n",
    "            fn += 1\n",
    "            \n",
    "    recall = (tp)/(tp + fn)\n",
    "    if tp == 0 and fp==0:\n",
    "        precision = 0\n",
    "    else:    \n",
    "        precision = (tp)/(tp + fp)\n",
    "    \n",
    "    if precision ==0 and recall ==0:\n",
    "        f=0\n",
    "    else:\n",
    "        f = (2*precision*recall)/(precision + recall)\n",
    "    \n",
    "    return f"
   ]
  },
  {
   "cell_type": "code",
   "execution_count": 101,
   "metadata": {},
   "outputs": [],
   "source": [
    "from sklearn.metrics import f1_score"
   ]
  },
  {
   "cell_type": "code",
   "execution_count": 149,
   "metadata": {},
   "outputs": [],
   "source": [
    "def kernel_pred(W, X, y, sigma = 20, b =-.5):\n",
    "    y_preds = np.array([])\n",
    "    for i in range(X.shape[0]):\n",
    "        y_pred = np.sign((RBF(X[i], W, sigma = sigma) + b))    \n",
    "        y_preds = np.append(y_preds, y_pred)\n",
    "    return y_preds"
   ]
  },
  {
   "cell_type": "code",
   "execution_count": 236,
   "metadata": {},
   "outputs": [],
   "source": [
    "def kernel_score(W, X, y, sigma = 20, b =-.5, print_pred = False):\n",
    "    '''This function returns the f score of a given test set from a given weight'''\n",
    "    y_preds = np.array([])\n",
    "    for i in range(X.shape[0]):\n",
    "        y_pred = np.sign((RBF(X[i], W, sigma = sigma) + b))\n",
    "        y_preds = np.append(y_preds, y_pred)\n",
    "    \n",
    "    if print_pred:\n",
    "        print(y_preds)\n",
    "        \n",
    "    return f_score(y_preds, y)\n",
    "    "
   ]
  },
  {
   "cell_type": "markdown",
   "metadata": {},
   "source": [
    "First, I tired checking the in-sample accuracy by running it with the training data. However, it returned a low accuracy (see below). This was then later realised that the model was predicting all zeros, giving the low accuracy. It was believed that the sigma needs to adjusted to give any reasonable accuracy."
   ]
  },
  {
   "cell_type": "code",
   "execution_count": 230,
   "metadata": {},
   "outputs": [
    {
     "name": "stdout",
     "output_type": "stream",
     "text": [
      "The prediction is:\n",
      "[-1. -1. -1. -1. -1. -1. -1. -1. -1. -1. -1. -1. -1. -1. -1. -1. -1. -1.\n",
      " -1. -1. -1. -1. -1. -1. -1. -1. -1. -1. -1. -1. -1. -1. -1. -1. -1. -1.\n",
      " -1. -1. -1. -1. -1. -1. -1. -1. -1. -1. -1. -1. -1. -1. -1. -1. -1. -1.\n",
      " -1. -1. -1. -1. -1. -1. -1. -1. -1. -1. -1. -1. -1. -1. -1. -1. -1. -1.\n",
      " -1. -1. -1. -1. -1. -1. -1. -1. -1. -1. -1. -1. -1. -1. -1. -1. -1. -1.\n",
      " -1. -1. -1. -1. -1. -1. -1. -1. -1. -1. -1. -1. -1. -1. -1. -1. -1. -1.\n",
      " -1. -1. -1. -1. -1. -1. -1. -1. -1. -1. -1. -1. -1. -1. -1. -1. -1. -1.\n",
      " -1. -1. -1. -1. -1. -1. -1. -1. -1. -1. -1. -1. -1. -1. -1. -1. -1. -1.\n",
      " -1. -1. -1. -1. -1. -1. -1. -1. -1. -1. -1. -1. -1. -1. -1. -1. -1. -1.\n",
      " -1. -1. -1. -1. -1. -1. -1. -1. -1. -1. -1. -1. -1. -1. -1. -1. -1. -1.\n",
      " -1. -1. -1. -1. -1. -1. -1. -1. -1. -1. -1. -1. -1. -1. -1. -1. -1. -1.\n",
      " -1. -1. -1. -1. -1. -1. -1. -1. -1. -1. -1. -1. -1. -1. -1. -1. -1. -1.\n",
      " -1. -1. -1. -1. -1. -1. -1. -1. -1. -1. -1. -1. -1. -1. -1. -1. -1. -1.\n",
      " -1. -1. -1. -1. -1. -1. -1. -1. -1. -1. -1. -1. -1. -1. -1. -1. -1. -1.\n",
      " -1. -1. -1. -1. -1. -1. -1. -1. -1. -1. -1. -1. -1. -1. -1. -1. -1. -1.\n",
      " -1. -1. -1. -1. -1. -1. -1. -1. -1. -1. -1. -1. -1. -1. -1. -1. -1. -1.\n",
      " -1. -1. -1. -1. -1. -1. -1. -1. -1. -1. -1. -1. -1. -1. -1. -1. -1. -1.\n",
      " -1. -1. -1. -1. -1. -1. -1. -1. -1. -1. -1. -1. -1. -1. -1. -1. -1. -1.\n",
      " -1. -1. -1. -1. -1. -1. -1. -1. -1. -1. -1. -1. -1. -1. -1. -1. -1. -1.\n",
      " -1. -1. -1. -1. -1. -1. -1. -1. -1. -1. -1. -1. -1. -1. -1. -1. -1. -1.\n",
      " -1. -1. -1. -1. -1. -1. -1. -1. -1. -1. -1. -1. -1. -1. -1. -1. -1. -1.\n",
      " -1. -1. -1. -1. -1. -1. -1. -1. -1. -1. -1. -1. -1. -1. -1. -1. -1. -1.\n",
      " -1. -1. -1. -1. -1. -1. -1. -1. -1. -1. -1. -1. -1. -1. -1. -1. -1. -1.\n",
      " -1. -1. -1. -1. -1. -1. -1. -1. -1. -1. -1. -1. -1. -1. -1. -1. -1. -1.\n",
      " -1. -1. -1. -1. -1. -1. -1. -1. -1. -1. -1. -1. -1. -1. -1. -1. -1. -1.\n",
      " -1. -1. -1. -1. -1. -1. -1. -1. -1. -1. -1. -1. -1. -1. -1. -1. -1. -1.\n",
      " -1. -1. -1. -1. -1. -1. -1. -1. -1. -1. -1. -1. -1. -1. -1. -1. -1. -1.\n",
      " -1. -1. -1. -1. -1. -1. -1. -1. -1. -1. -1. -1. -1. -1. -1. -1. -1. -1.\n",
      " -1. -1. -1. -1. -1. -1. -1. -1. -1. -1. -1. -1. -1. -1. -1. -1. -1. -1.\n",
      " -1. -1. -1. -1. -1. -1. -1. -1. -1. -1. -1. -1. -1. -1. -1. -1. -1. -1.\n",
      " -1. -1. -1. -1. -1. -1. -1. -1. -1. -1. -1. -1. -1. -1. -1. -1. -1. -1.\n",
      " -1. -1. -1. -1. -1. -1. -1. -1. -1. -1. -1. -1. -1. -1. -1. -1. -1. -1.\n",
      " -1. -1. -1. -1. -1. -1. -1. -1. -1. -1. -1. -1. -1. -1. -1. -1. -1. -1.\n",
      " -1. -1. -1. -1. -1. -1. -1. -1. -1. -1. -1. -1. -1. -1. -1. -1. -1. -1.\n",
      " -1. -1. -1. -1. -1. -1. -1. -1. -1. -1. -1. -1. -1. -1. -1. -1. -1. -1.\n",
      " -1. -1. -1. -1. -1. -1. -1. -1. -1. -1. -1. -1. -1. -1. -1. -1. -1. -1.\n",
      " -1. -1. -1. -1. -1. -1. -1. -1. -1. -1. -1. -1. -1. -1. -1. -1. -1. -1.\n",
      " -1. -1. -1. -1. -1. -1. -1. -1. -1. -1. -1. -1. -1. -1. -1. -1. -1. -1.\n",
      " -1. -1. -1. -1. -1. -1. -1. -1. -1. -1. -1. -1. -1. -1. -1. -1. -1. -1.\n",
      " -1. -1. -1. -1. -1. -1. -1. -1. -1. -1. -1. -1. -1. -1. -1. -1. -1. -1.\n",
      " -1. -1. -1. -1. -1. -1. -1. -1. -1. -1. -1. -1. -1. -1. -1. -1. -1. -1.\n",
      " -1. -1. -1. -1. -1. -1. -1. -1. -1. -1. -1. -1. -1. -1. -1. -1. -1. -1.\n",
      " -1. -1. -1. -1. -1. -1. -1. -1. -1. -1. -1. -1. -1. -1. -1. -1. -1. -1.\n",
      " -1. -1. -1. -1. -1. -1. -1. -1. -1. -1. -1. -1. -1. -1. -1. -1. -1. -1.\n",
      " -1. -1. -1. -1. -1. -1. -1. -1.]\n",
      "The training f1 score of the kernel SVM is 0.\n"
     ]
    }
   ],
   "source": [
    "sig = 1000\n",
    "W_rbf = sgd_rbf(X2_train_std, Y2_train_SVM, max_iterations=2000, stop_criterion=0.01, learning_rate=1e-3, \n",
    "            regul_strength=1e6, print_outcome=False, sigma = sig)\n",
    "print('The prediction is:')\n",
    "train_acc_rbf = kernel_score(W_rbf, X2_train_std, Y2_train_SVM, sigma = sig, print_pred = True)\n",
    "print(f'The training f1 score of the kernel SVM is {train_acc_rbf}.')"
   ]
  },
  {
   "cell_type": "markdown",
   "metadata": {},
   "source": [
    "Attempts were made to find a sigm value through trail and error and was found to be around the range of $0.2 * 10^{12}$ and $10^{12}$."
   ]
  },
  {
   "cell_type": "code",
   "execution_count": 225,
   "metadata": {},
   "outputs": [],
   "source": [
    "train_acc_rbf_list = []\n",
    "sig_vals = [10**i for i in range(13)]\n",
    "for sig in sig_vals:\n",
    "    W_rbf = sgd_rbf(X2_train_std, Y2_train_SVM, max_iterations=2000, stop_criterion=0.01, learning_rate=1e-3, \n",
    "            regul_strength=1e6, print_outcome=False, sigma = sig)\n",
    "    \n",
    "    train_acc_rbf = kernel_score(W_rbf, X2_train_std, Y2_train_SVM, sigma = sig)\n",
    "    train_acc_rbf_list.append(train_acc_rbf)\n",
    "    "
   ]
  },
  {
   "cell_type": "code",
   "execution_count": 226,
   "metadata": {},
   "outputs": [
    {
     "data": {
      "text/plain": [
       "[<matplotlib.lines.Line2D at 0x1a25eb3dd8>]"
      ]
     },
     "execution_count": 226,
     "metadata": {},
     "output_type": "execute_result"
    },
    {
     "data": {
      "image/png": "[encoded data removed]",
      "text/plain": [
       "<Figure size 576x396 with 1 Axes>"
      ]
     },
     "metadata": {},
     "output_type": "display_data"
    }
   ],
   "source": [
    "plt.title('How the f score varies with sigma in the training set')\n",
    "plt.ylabel('f score')\n",
    "plt.xlabel('sigma')\n",
    "plt.plot(sig_vals, train_acc_rbf_list)"
   ]
  },
  {
   "cell_type": "markdown",
   "metadata": {},
   "source": [
    "Now I scan this range with the 5-fold cross validation.\n",
    "\n",
    "Please note the following cross-validation takes about half an hour to run."
   ]
  },
  {
   "cell_type": "code",
   "execution_count": 227,
   "metadata": {},
   "outputs": [],
   "source": [
    "X2_fold_val_std, Y2_fold_val_SVM, X2_fold_train_std, Y2_fold_train_SVM = T_fold_split(X2_train_std, Y2_train_SVM)"
   ]
  },
  {
   "cell_type": "code",
   "execution_count": 231,
   "metadata": {},
   "outputs": [],
   "source": [
    "sigma_values = np.linspace(0.2 * 10** 12, 0.3 * 10** 12, 100)\n",
    "acc_list_SVM_CV = []\n",
    "\n",
    "for sigma in sigma_values:\n",
    "    acc_CV = 0\n",
    "    for fold in range(5):\n",
    "        W_rbf1 = sgd_rbf(X2_fold_train_std[fold], Y2_fold_train_SVM[fold], max_iterations=2000, stop_criterion=0.01, learning_rate=1e-3, \n",
    "                         regul_strength=1e6, print_outcome=False, sigma = sigma)\n",
    "        acc_SVM_CV_fold = kernel_score(W_rbf1, X2_fold_val_std[fold], Y2_fold_val_SVM[fold], sigma = sigma)\n",
    "        acc_CV += acc_SVM_CV_fold/5\n",
    "    \n",
    "    acc_list_SVM_CV.append(acc_CV)"
   ]
  },
  {
   "cell_type": "code",
   "execution_count": 232,
   "metadata": {},
   "outputs": [
    {
     "data": {
      "text/plain": [
       "[<matplotlib.lines.Line2D at 0x1a2681a2b0>]"
      ]
     },
     "execution_count": 232,
     "metadata": {},
     "output_type": "execute_result"
    },
    {
     "data": {
      "image/png": "[encoded data removed]",
      "text/plain": [
       "<Figure size 576x396 with 1 Axes>"
      ]
     },
     "metadata": {},
     "output_type": "display_data"
    }
   ],
   "source": [
    "plt.xlabel('sigma')\n",
    "plt.ylabel('f score')\n",
    "plt.plot(sigma_values, acc_list_SVM_CV)\n"
   ]
  },
  {
   "cell_type": "markdown",
   "metadata": {},
   "source": [
    "Now we can look at the unique values in the accuracy list whcih is measured using f score."
   ]
  },
  {
   "cell_type": "code",
   "execution_count": 235,
   "metadata": {},
   "outputs": [
    {
     "data": {
      "text/plain": [
       "{0.0,\n",
       " 0.16470588235294117,\n",
       " 0.3258999122036874,\n",
       " 0.4897375505800712,\n",
       " 0.6353686185412362,\n",
       " 0.6570102778527984,\n",
       " 0.8259633464448563}"
      ]
     },
     "execution_count": 235,
     "metadata": {},
     "output_type": "execute_result"
    }
   ],
   "source": [
    "set(acc_list_SVM_CV)"
   ]
  },
  {
   "cell_type": "markdown",
   "metadata": {},
   "source": [
    "From the plot, above the highest f1 score is about 0.8 which corresponds to the all ones prediction and hence that cannot corresponds to the optimal sigma. Therefore, the optimal sigma is chosen to be the one corresponding to the second largest f score."
   ]
  },
  {
   "cell_type": "code",
   "execution_count": 243,
   "metadata": {},
   "outputs": [
    {
     "name": "stdout",
     "output_type": "stream",
     "text": [
      "The optimal sigma is 284848484848.48486 .\n"
     ]
    }
   ],
   "source": [
    "sig_index = acc_list_SVM_CV.index(0.6570102778527984)\n",
    "optimal_sig  = sigma_values[sig_index]\n",
    "print('The optimal sigma is',optimal_sig, '.')"
   ]
  },
  {
   "cell_type": "markdown",
   "metadata": {},
   "source": [
    "# 2.3.2 ROC curve"
   ]
  },
  {
   "cell_type": "code",
   "execution_count": 199,
   "metadata": {},
   "outputs": [],
   "source": [
    "def tpr(y_preds, y_true):\n",
    "    num_tp = 0\n",
    "\n",
    "    for i in range(len(y_preds)):\n",
    "        if y_preds[i] == 1.0 and y_true[i] == 1.0:\n",
    "            num_tp += 1\n",
    "    tpr = num_tp/len(y_preds)\n",
    "    \n",
    "    return tpr"
   ]
  },
  {
   "cell_type": "code",
   "execution_count": 200,
   "metadata": {},
   "outputs": [],
   "source": [
    "def fpr(y_preds, y_true):\n",
    "    num_fp = 0\n",
    "    for i in range(len(y_preds)):\n",
    "        if y_preds[i] == 1.0 and y_true[i] == -1.0:\n",
    "            num_fp += 1\n",
    "    fpr = num_fp/len(y_preds)\n",
    "    \n",
    "    return fpr"
   ]
  },
  {
   "cell_type": "code",
   "execution_count": 210,
   "metadata": {},
   "outputs": [],
   "source": [
    "tpr_list = []\n",
    "fpr_list = []\n",
    "sig_vals_ROC = np.linspace(0.2 * 10** 12, 0.3 * 10** 12, 100)\n",
    "# Scanning through the sigma values and calculate the corresponding true positive rate and false positive rate\n",
    "for sig in sig_vals_ROC:\n",
    "    \n",
    "    W_rbf = sgd_rbf(X2_train_std, Y2_train_SVM, max_iterations=2000, stop_criterion=0.01, learning_rate=1e-3, \n",
    "            regul_strength=1e6, print_outcome=False, sigma = sig)\n",
    "    pred_kernel = kernel_pred(W_rbf, X2_test_std, Y2_test_SVM, sigma = sig)\n",
    "    \n",
    "    # calculating the tpr and fpr\n",
    "    tp_rate = tpr(pred_kernel, Y2_test_SVM)\n",
    "    fp_rate = fpr(pred_kernel, Y2_test_SVM)\n",
    "    # adding to the list of tpr and fpr\n",
    "    tpr_list.append(tp_rate)\n",
    "    fpr_list.append(fp_rate)\n",
    "\n",
    "    "
   ]
  },
  {
   "cell_type": "code",
   "execution_count": 211,
   "metadata": {},
   "outputs": [
    {
     "data": {
      "text/plain": [
       "[<matplotlib.lines.Line2D at 0x1a25bb68d0>]"
      ]
     },
     "execution_count": 211,
     "metadata": {},
     "output_type": "execute_result"
    },
    {
     "data": {
      "image/png": "[encoded data removed]",
      "text/plain": [
       "<Figure size 576x396 with 1 Axes>"
      ]
     },
     "metadata": {},
     "output_type": "display_data"
    }
   ],
   "source": [
    "plt.title('the receiver operating characteristic curve')\n",
    "plt.xlabel('false positive rate')\n",
    "plt.ylabel('true positive rate')\n",
    "plt.plot(tpr_list, fpr_list)"
   ]
  },
  {
   "cell_type": "markdown",
   "metadata": {},
   "source": [
    "Here I tried to run the model with the test data using the optimal sigma value, however it is predicting all ones again, which was not expected."
   ]
  },
  {
   "cell_type": "code",
   "execution_count": 245,
   "metadata": {},
   "outputs": [
    {
     "data": {
      "text/plain": [
       "0.8130563798219584"
      ]
     },
     "execution_count": 245,
     "metadata": {},
     "output_type": "execute_result"
    }
   ],
   "source": [
    "W_rbf_test = sgd_rbf(X2_train_std, Y2_train_SVM, max_iterations=2000, stop_criterion=0.01, learning_rate=1e-3, \n",
    "            regul_strength=1e6, print_outcome=False, sigma = sig)\n",
    "test_score = kernel_score(W_rbf1, X2_test_std, Y2_test_SVM, sigma = sigma)\n",
    "test_score"
   ]
  },
  {
   "cell_type": "markdown",
   "metadata": {},
   "source": [
    "Unfortunately, as seen from the plot above, the desired 'inflated' curve is not present and have a gradient less than one. Therefore, the quality of the kernel SVM is in fact worse than random sampling. The reason for that was not found. It is believed to be due to some errors in the code. Moreover, a sigma in the order of magnitude of $ 10^{12} $ is not reasonable."
   ]
  },
  {
   "cell_type": "markdown",
   "metadata": {},
   "source": [
    "# Reference:\n",
    "[1] James, G., Witten, D., Hastie, T. and Tibshirani, R., 2017. An introduction to statistical learning. New York, N.Y: Springer."
   ]
  }
 ],
 "metadata": {
  "kernelspec": {
   "display_name": "Python 3",
   "language": "python",
   "name": "python3"
  }
 },
 "nbformat": 4,
 "nbformat_minor": 4
}
